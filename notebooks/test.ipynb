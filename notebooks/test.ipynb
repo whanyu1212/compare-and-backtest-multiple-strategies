{
 "cells": [
  {
   "cell_type": "code",
   "execution_count": 18,
   "metadata": {},
   "outputs": [
    {
     "name": "stdout",
     "output_type": "stream",
     "text": [
      "{'address1': 'One Apple Park Way', 'city': 'Cupertino', 'state': 'CA', 'zip': '95014', 'country': 'United States', 'phone': '408 996 1010', 'website': 'https://www.apple.com', 'industry': 'Consumer Electronics', 'industryKey': 'consumer-electronics', 'industryDisp': 'Consumer Electronics', 'sector': 'Technology', 'sectorKey': 'technology', 'sectorDisp': 'Technology', 'longBusinessSummary': 'Apple Inc. designs, manufactures, and markets smartphones, personal computers, tablets, wearables, and accessories worldwide. The company offers iPhone, a line of smartphones; Mac, a line of personal computers; iPad, a line of multi-purpose tablets; and wearables, home, and accessories comprising AirPods, Apple TV, Apple Watch, Beats products, and HomePod. It also provides AppleCare support and cloud services; and operates various platforms, including the App Store that allow customers to discover and download applications and digital content, such as books, music, video, games, and podcasts. In addition, the company offers various services, such as Apple Arcade, a game subscription service; Apple Fitness+, a personalized fitness service; Apple Music, which offers users a curated listening experience with on-demand radio stations; Apple News+, a subscription news and magazine service; Apple TV+, which offers exclusive original content; Apple Card, a co-branded credit card; and Apple Pay, a cashless payment service, as well as licenses its intellectual property. The company serves consumers, and small and mid-sized businesses; and the education, enterprise, and government markets. It distributes third-party applications for its products through the App Store. The company also sells its products through its retail and online stores, and direct sales force; and third-party cellular network carriers, wholesalers, retailers, and resellers. Apple Inc. was founded in 1976 and is headquartered in Cupertino, California.', 'fullTimeEmployees': 161000, 'companyOfficers': [{'maxAge': 1, 'name': 'Mr. Timothy D. Cook', 'age': 62, 'title': 'CEO & Director', 'yearBorn': 1961, 'fiscalYear': 2023, 'totalPay': 16239562, 'exercisedValue': 0, 'unexercisedValue': 0}, {'maxAge': 1, 'name': 'Mr. Luca  Maestri', 'age': 60, 'title': 'CFO & Senior VP', 'yearBorn': 1963, 'fiscalYear': 2023, 'totalPay': 4612242, 'exercisedValue': 0, 'unexercisedValue': 0}, {'maxAge': 1, 'name': 'Mr. Jeffrey E. Williams', 'age': 59, 'title': 'Chief Operating Officer', 'yearBorn': 1964, 'fiscalYear': 2023, 'totalPay': 4637585, 'exercisedValue': 0, 'unexercisedValue': 0}, {'maxAge': 1, 'name': 'Ms. Katherine L. Adams', 'age': 59, 'title': 'Senior VP, General Counsel & Secretary', 'yearBorn': 1964, 'fiscalYear': 2023, 'totalPay': 4618064, 'exercisedValue': 0, 'unexercisedValue': 0}, {'maxAge': 1, 'name': \"Ms. Deirdre  O'Brien\", 'age': 56, 'title': 'Senior Vice President of Retail', 'yearBorn': 1967, 'fiscalYear': 2023, 'totalPay': 4613369, 'exercisedValue': 0, 'unexercisedValue': 0}, {'maxAge': 1, 'name': 'Mr. Chris  Kondo', 'title': 'Senior Director of Corporate Accounting', 'fiscalYear': 2023, 'exercisedValue': 0, 'unexercisedValue': 0}, {'maxAge': 1, 'name': 'Mr. James  Wilson', 'title': 'Chief Technology Officer', 'fiscalYear': 2023, 'exercisedValue': 0, 'unexercisedValue': 0}, {'maxAge': 1, 'name': 'Suhasini  Chandramouli', 'title': 'Director of Investor Relations', 'fiscalYear': 2023, 'exercisedValue': 0, 'unexercisedValue': 0}, {'maxAge': 1, 'name': 'Mr. Greg  Joswiak', 'title': 'Senior Vice President of Worldwide Marketing', 'fiscalYear': 2023, 'exercisedValue': 0, 'unexercisedValue': 0}, {'maxAge': 1, 'name': 'Mr. Adrian  Perica', 'age': 49, 'title': 'Head of Corporate Development', 'yearBorn': 1974, 'fiscalYear': 2023, 'exercisedValue': 0, 'unexercisedValue': 0}], 'auditRisk': 4, 'boardRisk': 1, 'compensationRisk': 6, 'shareHolderRightsRisk': 1, 'overallRisk': 1, 'governanceEpochDate': 1706745600, 'compensationAsOfEpochDate': 1703980800, 'maxAge': 86400, 'priceHint': 2, 'previousClose': 182.31, 'open': 181.79, 'dayLow': 180.0, 'dayHigh': 182.43, 'regularMarketPreviousClose': 182.31, 'regularMarketOpen': 181.79, 'regularMarketDayLow': 180.0, 'regularMarketDayHigh': 182.43, 'dividendRate': 0.96, 'dividendYield': 0.0053, 'exDividendDate': 1707436800, 'payoutRatio': 0.14770001, 'fiveYearAvgDividendYield': 0.78, 'beta': 1.312, 'trailingPE': 28.192547, 'forwardPE': 25.357542, 'volume': 49303267, 'regularMarketVolume': 49303267, 'averageVolume': 53512803, 'averageVolume10days': 52079360, 'averageDailyVolume10Day': 52079360, 'bid': 181.42, 'ask': 181.54, 'bidSize': 900, 'askSize': 800, 'marketCap': 2803631128576, 'fiftyTwoWeekLow': 143.9, 'fiftyTwoWeekHigh': 199.62, 'priceToSalesTrailing12Months': 7.2688293, 'fiftyDayAverage': 189.8614, 'twoHundredDayAverage': 183.48035, 'trailingAnnualDividendRate': 0.95, 'trailingAnnualDividendYield': 0.0052109044, 'currency': 'USD', 'enterpriseValue': 2850149367808, 'profitMargins': 0.26163, 'floatShares': 15414703289, 'sharesOutstanding': 15441899520, 'sharesShort': 99244672, 'sharesShortPriorMonth': 108220157, 'sharesShortPreviousMonthDate': 1703808000, 'dateShortInterest': 1706659200, 'sharesPercentSharesOut': 0.0064, 'heldPercentInsiders': 0.059369996, 'heldPercentInstitutions': 0.56646, 'shortRatio': 1.76, 'shortPercentOfFloat': 0.0064, 'impliedSharesOutstanding': 15770500096, 'bookValue': 4.793, 'priceToBook': 37.88024, 'lastFiscalYearEnd': 1696032000, 'nextFiscalYearEnd': 1727654400, 'mostRecentQuarter': 1703894400, 'earningsQuarterlyGrowth': 0.131, 'netIncomeToCommon': 100912996352, 'trailingEps': 6.44, 'forwardEps': 7.16, 'pegRatio': 2.53, 'lastSplitFactor': '4:1', 'lastSplitDate': 1598832000, 'enterpriseToRevenue': 7.389, 'enterpriseToEbitda': 21.906, '52WeekChange': 0.22784209, 'SandP52WeekChange': 0.25222528, 'lastDividendValue': 0.24, 'lastDividendDate': 1707436800, 'exchange': 'NMS', 'quoteType': 'EQUITY', 'symbol': 'AAPL', 'underlyingSymbol': 'AAPL', 'shortName': 'Apple Inc.', 'longName': 'Apple Inc.', 'firstTradeDateEpochUtc': 345479400, 'timeZoneFullName': 'America/New_York', 'timeZoneShortName': 'EST', 'uuid': '8b10e4ae-9eeb-3684-921a-9ab27e4d87aa', 'messageBoardId': 'finmb_24937', 'gmtOffSetMilliseconds': -18000000, 'currentPrice': 181.56, 'targetHighPrice': 250.0, 'targetLowPrice': 158.0, 'targetMeanPrice': 201.08, 'targetMedianPrice': 200.0, 'recommendationMean': 2.1, 'recommendationKey': 'buy', 'numberOfAnalystOpinions': 39, 'totalCash': 73100001280, 'totalCashPerShare': 4.734, 'ebitda': 130108997632, 'totalDebt': 108040003584, 'quickRatio': 0.92, 'currentRatio': 1.073, 'totalRevenue': 385706000384, 'debtToEquity': 145.803, 'revenuePerShare': 24.648, 'returnOnAssets': 0.21181, 'returnOnEquity': 1.5426899, 'freeCashflow': 86563127296, 'operatingCashflow': 116433002496, 'earningsGrowth': 0.16, 'revenueGrowth': 0.021, 'grossMargins': 0.45027, 'ebitdaMargins': 0.33733, 'operatingMargins': 0.33764, 'financialCurrency': 'USD', 'trailingPegRatio': 2.2441}\n"
     ]
    },
    {
     "name": "stderr",
     "output_type": "stream",
     "text": [
      "/Users/hanyuwu/Library/Caches/pypoetry/virtualenvs/compare-multiple-backtests-f1m3Q6xX-py3.11/lib/python3.11/site-packages/yfinance/utils.py:775: FutureWarning: The 'unit' keyword in TimedeltaIndex construction is deprecated and will be removed in a future version. Use pd.to_timedelta instead.\n",
      "  df.index += _pd.TimedeltaIndex(dst_error_hours, 'h')\n"
     ]
    }
   ],
   "source": [
    "import yfinance as yf\n",
    "\n",
    "def get_ticker_info(symbol):\n",
    "    ticker = yf.Ticker(symbol)\n",
    "    ticker.history(start=\"2020-01-01\", end=\"2020-12-31\",period=\"1d\")\n",
    "    info = ticker.info\n",
    "    return info\n",
    "\n",
    "# Usage\n",
    "info = get_ticker_info(\"AAPL\")\n",
    "print(info)"
   ]
  },
  {
   "cell_type": "code",
   "execution_count": null,
   "metadata": {},
   "outputs": [],
   "source": [
    "for i in info.keys():\n",
    "    print(i, info[i])"
   ]
  },
  {
   "cell_type": "code",
   "execution_count": 26,
   "metadata": {},
   "outputs": [],
   "source": [
    "# Simplified daily price changes (%) for a stock over 10 days\n",
    "import random\n",
    "\n",
    "price_changes = [round(random.uniform(-2.0, 2.0), 2) for _ in range(100)]\n"
   ]
  },
  {
   "cell_type": "code",
   "execution_count": 28,
   "metadata": {},
   "outputs": [],
   "source": [
    "import random\n",
    "\n",
    "def initialize_population(size, gene_length):\n",
    "    return [[random.choice([-1, 0, 1]) for _ in range(gene_length)] for _ in range(size)]\n"
   ]
  },
  {
   "cell_type": "code",
   "execution_count": 29,
   "metadata": {},
   "outputs": [],
   "source": [
    "import numpy as np\n",
    "\n",
    "def calculate_fitness(individual, price_changes):\n",
    "    # Calculate daily returns based on trading actions\n",
    "    daily_returns = [action * change for action, change in zip(individual, price_changes)]\n",
    "    \n",
    "    # Calculate the average daily return and standard deviation of daily returns\n",
    "    avg_daily_return = np.mean(daily_returns)\n",
    "    std_dev_returns = np.std(daily_returns)\n",
    "    \n",
    "    # Assuming no risk-free rate for simplicity; subtract risk-free rate from avg_daily_return if available\n",
    "    if std_dev_returns > 0:\n",
    "        sharpe_ratio = avg_daily_return / std_dev_returns\n",
    "    else:\n",
    "        sharpe_ratio = 0  # To handle division by zero if std_dev_returns is 0\n",
    "    \n",
    "    return sharpe_ratio\n"
   ]
  },
  {
   "cell_type": "code",
   "execution_count": 30,
   "metadata": {},
   "outputs": [],
   "source": [
    "def select_parents(population, fitnesses, num_parents):\n",
    "    parents = sorted(zip(population, fitnesses), key=lambda x: x[1], reverse=True)\n",
    "    return [parent for parent, _ in parents[:num_parents]]\n"
   ]
  },
  {
   "cell_type": "code",
   "execution_count": 31,
   "metadata": {},
   "outputs": [],
   "source": [
    "def crossover(parents, offspring_size):\n",
    "    offspring = []\n",
    "    crossover_point = random.randint(1, offspring_size - 1)\n",
    "    for _ in range(offspring_size):\n",
    "        parent1, parent2 = random.sample(parents, 2)\n",
    "        child = parent1[:crossover_point] + parent2[crossover_point:]\n",
    "        offspring.append(child)\n",
    "    return offspring\n"
   ]
  },
  {
   "cell_type": "code",
   "execution_count": 32,
   "metadata": {},
   "outputs": [],
   "source": [
    "def mutate(offspring, mutation_rate=0.1):\n",
    "    for individual in offspring:\n",
    "        if random.random() < mutation_rate:\n",
    "            mutation_point = random.randint(0, len(individual) - 1)\n",
    "            individual[mutation_point] = random.choice([-1, 0, 1])\n",
    "    return offspring\n"
   ]
  },
  {
   "cell_type": "code",
   "execution_count": 36,
   "metadata": {},
   "outputs": [
    {
     "name": "stdout",
     "output_type": "stream",
     "text": [
      "Generation 1, Best Fitness: 0.41699046793700284\n",
      "Generation 2, Best Fitness: 0.4584295811700599\n",
      "Generation 3, Best Fitness: 0.5010539820617976\n",
      "Generation 4, Best Fitness: 0.5328474900677242\n",
      "Generation 5, Best Fitness: 0.5835367236690455\n",
      "Generation 6, Best Fitness: 0.6197849262762906\n",
      "Generation 7, Best Fitness: 0.6798239754948533\n",
      "Generation 8, Best Fitness: 0.7033017788168593\n",
      "Generation 9, Best Fitness: 0.7734731137075797\n",
      "Generation 10, Best Fitness: 0.818077444437067\n",
      "Generation 11, Best Fitness: 0.8375504742714992\n",
      "Generation 12, Best Fitness: 0.8685554242920289\n",
      "Generation 13, Best Fitness: 0.9177304952507217\n",
      "Generation 14, Best Fitness: 0.9594939124598625\n",
      "Generation 15, Best Fitness: 0.9983874970929032\n",
      "Generation 16, Best Fitness: 1.01764897427458\n",
      "Generation 17, Best Fitness: 1.0524507181555047\n",
      "Generation 18, Best Fitness: 1.0737046714940113\n",
      "Generation 19, Best Fitness: 1.1037729767317326\n",
      "Generation 20, Best Fitness: 1.127988026928608\n",
      "Generation 21, Best Fitness: 1.1524373683093565\n",
      "Generation 22, Best Fitness: 1.1884943619402732\n",
      "Generation 23, Best Fitness: 1.2126623544684232\n",
      "Generation 24, Best Fitness: 1.2406434004409232\n",
      "Generation 25, Best Fitness: 1.2719045880447666\n",
      "Generation 26, Best Fitness: 1.2986921569182261\n",
      "Generation 27, Best Fitness: 1.3243531115374472\n",
      "Generation 28, Best Fitness: 1.3532526984286029\n",
      "Generation 29, Best Fitness: 1.3787674601535604\n",
      "Generation 30, Best Fitness: 1.4081750776540567\n",
      "Generation 31, Best Fitness: 1.4299670823263686\n",
      "Generation 32, Best Fitness: 1.4598529377002925\n",
      "Generation 33, Best Fitness: 1.4860618800018766\n",
      "Generation 34, Best Fitness: 1.512684167253406\n",
      "Generation 35, Best Fitness: 1.543582961069507\n",
      "Generation 36, Best Fitness: 1.5703906087306647\n",
      "Generation 37, Best Fitness: 1.6093409149801596\n",
      "Generation 38, Best Fitness: 1.6412222627530761\n",
      "Generation 39, Best Fitness: 1.649688625234623\n",
      "Generation 40, Best Fitness: 1.6731582930695161\n",
      "Generation 41, Best Fitness: 1.6891827459398276\n",
      "Generation 42, Best Fitness: 1.702663488450269\n",
      "Generation 43, Best Fitness: 1.709476033331969\n",
      "Generation 44, Best Fitness: 1.714969697316951\n",
      "Generation 45, Best Fitness: 1.7176627495513388\n",
      "Generation 46, Best Fitness: 1.72326105612126\n",
      "Generation 47, Best Fitness: 1.7275212758215783\n",
      "Generation 48, Best Fitness: 1.7325009826796354\n",
      "Generation 49, Best Fitness: 1.736106920773704\n",
      "Generation 50, Best Fitness: 1.7397297339517093\n",
      "Best Trading Strategy: [-1, 1, 1, -1, -1, 1, 1, 1, -1, -1, 1, 1, 1, -1, -1, -1, 1, -1, 1, 1, -1, 1, 1, 1, 1, 1, 1, -1, -1, 1, -1, 1, -1, 1, -1, 1, 1, -1, 1, -1, -1, 1, -1, 1, 0, 1, 1, 1, -1, 1, -1, -1, 1, -1, -1, -1, 1, 1, 1, 1, 1, -1, -1, 1, -1, -1, 1, -1, -1, 1, -1, 1, -1, -1, 1, 1, 1, 1, -1, -1, -1, 1, 1, -1, -1, 1, 1, 1, -1, -1, 1, 1, 1, 1, -1, -1, 1, -1, -1, -1]\n"
     ]
    }
   ],
   "source": [
    "def run_genetic_algorithm(price_changes, generations=50, population_size=100000, gene_length=100, num_parents=300):\n",
    "    population = initialize_population(population_size, gene_length)\n",
    "    for generation in range(generations):\n",
    "        fitnesses = [calculate_fitness(individual, price_changes) for individual in population]\n",
    "        parents = select_parents(population, fitnesses, num_parents)\n",
    "        offspring = crossover(parents, offspring_size=len(population) - len(parents))\n",
    "        offspring = mutate(offspring)\n",
    "        population = parents + offspring\n",
    "        print(f\"Generation {generation + 1}, Best Fitness: {max(fitnesses)}\")\n",
    "\n",
    "    best_index = fitnesses.index(max(fitnesses))\n",
    "    return population[best_index]\n",
    "\n",
    "# Running the GA with our sample data\n",
    "best_strategy = run_genetic_algorithm(price_changes)\n",
    "print(\"Best Trading Strategy:\", best_strategy)\n"
   ]
  },
  {
   "cell_type": "code",
   "execution_count": null,
   "metadata": {},
   "outputs": [],
   "source": [
    "\n",
    "\n",
    "# Calculate daily returns based on actions\n",
    "# Here, buying (1) means we gain if the price increases, selling (-1) means we gain if the price decreases.\n",
    "daily_returns = [action * change/100 for action, change in zip(actions, price_changes)]\n"
   ]
  },
  {
   "cell_type": "code",
   "execution_count": null,
   "metadata": {},
   "outputs": [],
   "source": [
    "def cumsum(lst):\n",
    "    total = 0\n",
    "    cumsum_list = []\n",
    "    for num in lst:\n",
    "        total += num\n",
    "        cumsum_list.append(total)\n",
    "    return cumsum_list"
   ]
  },
  {
   "cell_type": "code",
   "execution_count": null,
   "metadata": {},
   "outputs": [],
   "source": [
    "cumsum_returns = cumsum(daily_returns)"
   ]
  },
  {
   "cell_type": "code",
   "execution_count": null,
   "metadata": {},
   "outputs": [],
   "source": [
    "cumsum_returns"
   ]
  }
 ],
 "metadata": {
  "kernelspec": {
   "display_name": "compare-multiple-backtests-f1m3Q6xX-py3.11",
   "language": "python",
   "name": "python3"
  },
  "language_info": {
   "codemirror_mode": {
    "name": "ipython",
    "version": 3
   },
   "file_extension": ".py",
   "mimetype": "text/x-python",
   "name": "python",
   "nbconvert_exporter": "python",
   "pygments_lexer": "ipython3",
   "version": "3.11.5"
  }
 },
 "nbformat": 4,
 "nbformat_minor": 2
}
