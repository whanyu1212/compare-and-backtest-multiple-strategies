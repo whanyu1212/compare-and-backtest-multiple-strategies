{
 "cells": [
  {
   "cell_type": "code",
   "execution_count": 16,
   "metadata": {},
   "outputs": [],
   "source": [
    "import pandas as pd\n",
    "import numpy as np\n",
    "import shap\n",
    "import yfinance as yf\n",
    "import matplotlib.pyplot as plt\n",
    "import plotly.express as px\n",
    "from sklearn.model_selection import train_test_split\n",
    "from lightgbm import LGBMClassifier\n",
    "from sklearn.metrics import accuracy_score, roc_auc_score"
   ]
  },
  {
   "cell_type": "code",
   "execution_count": 2,
   "metadata": {},
   "outputs": [
    {
     "name": "stderr",
     "output_type": "stream",
     "text": [
      "/Users/hanyuwu/Library/Caches/pypoetry/virtualenvs/compare-multiple-backtests-f1m3Q6xX-py3.11/lib/python3.11/site-packages/yfinance/utils.py:775: FutureWarning: The 'unit' keyword in TimedeltaIndex construction is deprecated and will be removed in a future version. Use pd.to_timedelta instead.\n",
      "  df.index += _pd.TimedeltaIndex(dst_error_hours, 'h')\n",
      "[*********************100%%**********************]  1 of 1 completed\n"
     ]
    }
   ],
   "source": [
    "data = yf.download('GOOGL', start='2015-01-01', end='2020-01-01')"
   ]
  },
  {
   "cell_type": "code",
   "execution_count": 3,
   "metadata": {},
   "outputs": [],
   "source": [
    "data['SMA50'] = data['Close'].rolling(window=50).mean()\n",
    "data['EMA50'] = data['Close'].ewm(span=50, adjust=False).mean()\n",
    "\n",
    "# RSI\n",
    "delta = data['Close'].diff(1)\n",
    "gain = (delta.where(delta > 0, 0)).rolling(window=14).mean()\n",
    "loss = (-delta.where(delta < 0, 0)).rolling(window=14).mean()\n",
    "rs = gain / loss\n",
    "data['RSI'] = 100 - (100 / (1 + rs))\n",
    "\n",
    "# MACD\n",
    "exp1 = data['Close'].ewm(span=12, adjust=False).mean()\n",
    "exp2 = data['Close'].ewm(span=26, adjust=False).mean()\n",
    "data['MACD'] = exp1 - exp2\n",
    "\n",
    "# ATR\n",
    "high_low = data['High'] - data['Low']\n",
    "high_close = (data['High'] - data['Close'].shift()).abs()\n",
    "low_close = (data['Low'] - data['Close'].shift()).abs()\n",
    "ranges = pd.concat([high_low, high_close, low_close], axis=1)\n",
    "true_range = ranges.max(axis=1)\n",
    "data['ATR'] = true_range.rolling(window=14).mean()\n",
    "\n",
    "# Bollinger Bands\n",
    "data['Middle_BB'] = data['Close'].rolling(window=20).mean()\n",
    "data['Upper_BB'] = data['Middle_BB'] + 2*data['Close'].rolling(window=20).std()\n",
    "data['Lower_BB'] = data['Middle_BB'] - 2*data['Close'].rolling(window=20).std()\n",
    "\n",
    "# OBV\n",
    "data['OBV'] = (np.sign(data['Close'].diff()) * data['Volume']).fillna(0).cumsum()\n",
    "\n",
    "# VWAP (assuming intraday data is available)\n",
    "data['VWAP'] = (data['Volume'] * (data['High'] + data['Low'] + data['Close']) / 3).cumsum() / data['Volume'].cumsum()\n"
   ]
  },
  {
   "cell_type": "code",
   "execution_count": 4,
   "metadata": {},
   "outputs": [
    {
     "data": {
      "text/html": [
       "<div>\n",
       "<style scoped>\n",
       "    .dataframe tbody tr th:only-of-type {\n",
       "        vertical-align: middle;\n",
       "    }\n",
       "\n",
       "    .dataframe tbody tr th {\n",
       "        vertical-align: top;\n",
       "    }\n",
       "\n",
       "    .dataframe thead th {\n",
       "        text-align: right;\n",
       "    }\n",
       "</style>\n",
       "<table border=\"1\" class=\"dataframe\">\n",
       "  <thead>\n",
       "    <tr style=\"text-align: right;\">\n",
       "      <th></th>\n",
       "      <th>Open</th>\n",
       "      <th>High</th>\n",
       "      <th>Low</th>\n",
       "      <th>Close</th>\n",
       "      <th>Adj Close</th>\n",
       "      <th>Volume</th>\n",
       "      <th>SMA50</th>\n",
       "      <th>EMA50</th>\n",
       "      <th>RSI</th>\n",
       "      <th>MACD</th>\n",
       "      <th>ATR</th>\n",
       "      <th>Middle_BB</th>\n",
       "      <th>Upper_BB</th>\n",
       "      <th>Lower_BB</th>\n",
       "      <th>OBV</th>\n",
       "      <th>VWAP</th>\n",
       "    </tr>\n",
       "    <tr>\n",
       "      <th>Date</th>\n",
       "      <th></th>\n",
       "      <th></th>\n",
       "      <th></th>\n",
       "      <th></th>\n",
       "      <th></th>\n",
       "      <th></th>\n",
       "      <th></th>\n",
       "      <th></th>\n",
       "      <th></th>\n",
       "      <th></th>\n",
       "      <th></th>\n",
       "      <th></th>\n",
       "      <th></th>\n",
       "      <th></th>\n",
       "      <th></th>\n",
       "      <th></th>\n",
       "    </tr>\n",
       "  </thead>\n",
       "  <tbody>\n",
       "    <tr>\n",
       "      <th>2019-12-24</th>\n",
       "      <td>67.510498</td>\n",
       "      <td>67.600502</td>\n",
       "      <td>67.208504</td>\n",
       "      <td>67.221497</td>\n",
       "      <td>67.221497</td>\n",
       "      <td>13468000</td>\n",
       "      <td>65.140280</td>\n",
       "      <td>65.217321</td>\n",
       "      <td>68.070234</td>\n",
       "      <td>0.767544</td>\n",
       "      <td>0.651570</td>\n",
       "      <td>66.734549</td>\n",
       "      <td>68.909130</td>\n",
       "      <td>64.559968</td>\n",
       "      <td>2.027282e+09</td>\n",
       "      <td>45.262523</td>\n",
       "    </tr>\n",
       "    <tr>\n",
       "      <th>2019-12-26</th>\n",
       "      <td>67.327499</td>\n",
       "      <td>68.160004</td>\n",
       "      <td>67.275497</td>\n",
       "      <td>68.123497</td>\n",
       "      <td>68.123497</td>\n",
       "      <td>23662000</td>\n",
       "      <td>65.260510</td>\n",
       "      <td>65.331288</td>\n",
       "      <td>72.042115</td>\n",
       "      <td>0.779675</td>\n",
       "      <td>0.669821</td>\n",
       "      <td>66.858224</td>\n",
       "      <td>69.054337</td>\n",
       "      <td>64.662111</td>\n",
       "      <td>2.050944e+09</td>\n",
       "      <td>45.273942</td>\n",
       "    </tr>\n",
       "    <tr>\n",
       "      <th>2019-12-27</th>\n",
       "      <td>68.199997</td>\n",
       "      <td>68.352501</td>\n",
       "      <td>67.650002</td>\n",
       "      <td>67.732002</td>\n",
       "      <td>67.732002</td>\n",
       "      <td>23212000</td>\n",
       "      <td>65.372150</td>\n",
       "      <td>65.425434</td>\n",
       "      <td>60.039538</td>\n",
       "      <td>0.749064</td>\n",
       "      <td>0.664607</td>\n",
       "      <td>66.964499</td>\n",
       "      <td>69.110713</td>\n",
       "      <td>64.818285</td>\n",
       "      <td>2.027732e+09</td>\n",
       "      <td>45.285161</td>\n",
       "    </tr>\n",
       "    <tr>\n",
       "      <th>2019-12-30</th>\n",
       "      <td>67.840500</td>\n",
       "      <td>67.849998</td>\n",
       "      <td>66.891998</td>\n",
       "      <td>66.985497</td>\n",
       "      <td>66.985497</td>\n",
       "      <td>19994000</td>\n",
       "      <td>65.459060</td>\n",
       "      <td>65.486613</td>\n",
       "      <td>48.120979</td>\n",
       "      <td>0.656994</td>\n",
       "      <td>0.656321</td>\n",
       "      <td>67.053549</td>\n",
       "      <td>69.033653</td>\n",
       "      <td>65.073445</td>\n",
       "      <td>2.007738e+09</td>\n",
       "      <td>45.294531</td>\n",
       "    </tr>\n",
       "    <tr>\n",
       "      <th>2019-12-31</th>\n",
       "      <td>66.789497</td>\n",
       "      <td>67.032997</td>\n",
       "      <td>66.606499</td>\n",
       "      <td>66.969498</td>\n",
       "      <td>66.969498</td>\n",
       "      <td>19514000</td>\n",
       "      <td>65.554039</td>\n",
       "      <td>65.544765</td>\n",
       "      <td>47.999972</td>\n",
       "      <td>0.576096</td>\n",
       "      <td>0.636785</td>\n",
       "      <td>67.179874</td>\n",
       "      <td>68.735631</td>\n",
       "      <td>65.624117</td>\n",
       "      <td>1.988224e+09</td>\n",
       "      <td>45.303513</td>\n",
       "    </tr>\n",
       "  </tbody>\n",
       "</table>\n",
       "</div>"
      ],
      "text/plain": [
       "                 Open       High        Low      Close  Adj Close    Volume  \\\n",
       "Date                                                                          \n",
       "2019-12-24  67.510498  67.600502  67.208504  67.221497  67.221497  13468000   \n",
       "2019-12-26  67.327499  68.160004  67.275497  68.123497  68.123497  23662000   \n",
       "2019-12-27  68.199997  68.352501  67.650002  67.732002  67.732002  23212000   \n",
       "2019-12-30  67.840500  67.849998  66.891998  66.985497  66.985497  19994000   \n",
       "2019-12-31  66.789497  67.032997  66.606499  66.969498  66.969498  19514000   \n",
       "\n",
       "                SMA50      EMA50        RSI      MACD       ATR  Middle_BB  \\\n",
       "Date                                                                         \n",
       "2019-12-24  65.140280  65.217321  68.070234  0.767544  0.651570  66.734549   \n",
       "2019-12-26  65.260510  65.331288  72.042115  0.779675  0.669821  66.858224   \n",
       "2019-12-27  65.372150  65.425434  60.039538  0.749064  0.664607  66.964499   \n",
       "2019-12-30  65.459060  65.486613  48.120979  0.656994  0.656321  67.053549   \n",
       "2019-12-31  65.554039  65.544765  47.999972  0.576096  0.636785  67.179874   \n",
       "\n",
       "             Upper_BB   Lower_BB           OBV       VWAP  \n",
       "Date                                                       \n",
       "2019-12-24  68.909130  64.559968  2.027282e+09  45.262523  \n",
       "2019-12-26  69.054337  64.662111  2.050944e+09  45.273942  \n",
       "2019-12-27  69.110713  64.818285  2.027732e+09  45.285161  \n",
       "2019-12-30  69.033653  65.073445  2.007738e+09  45.294531  \n",
       "2019-12-31  68.735631  65.624117  1.988224e+09  45.303513  "
      ]
     },
     "execution_count": 4,
     "metadata": {},
     "output_type": "execute_result"
    }
   ],
   "source": [
    "data.tail()"
   ]
  },
  {
   "cell_type": "code",
   "execution_count": 5,
   "metadata": {},
   "outputs": [
    {
     "data": {
      "text/html": [
       "<div>\n",
       "<style scoped>\n",
       "    .dataframe tbody tr th:only-of-type {\n",
       "        vertical-align: middle;\n",
       "    }\n",
       "\n",
       "    .dataframe tbody tr th {\n",
       "        vertical-align: top;\n",
       "    }\n",
       "\n",
       "    .dataframe thead th {\n",
       "        text-align: right;\n",
       "    }\n",
       "</style>\n",
       "<table border=\"1\" class=\"dataframe\">\n",
       "  <thead>\n",
       "    <tr style=\"text-align: right;\">\n",
       "      <th></th>\n",
       "      <th>Open</th>\n",
       "      <th>High</th>\n",
       "      <th>Low</th>\n",
       "      <th>Close</th>\n",
       "      <th>Adj Close</th>\n",
       "      <th>Volume</th>\n",
       "      <th>SMA50</th>\n",
       "      <th>EMA50</th>\n",
       "      <th>RSI</th>\n",
       "      <th>MACD</th>\n",
       "      <th>ATR</th>\n",
       "      <th>Middle_BB</th>\n",
       "      <th>Upper_BB</th>\n",
       "      <th>Lower_BB</th>\n",
       "      <th>OBV</th>\n",
       "      <th>VWAP</th>\n",
       "      <th>Future_Close</th>\n",
       "      <th>Target</th>\n",
       "    </tr>\n",
       "    <tr>\n",
       "      <th>Date</th>\n",
       "      <th></th>\n",
       "      <th></th>\n",
       "      <th></th>\n",
       "      <th></th>\n",
       "      <th></th>\n",
       "      <th></th>\n",
       "      <th></th>\n",
       "      <th></th>\n",
       "      <th></th>\n",
       "      <th></th>\n",
       "      <th></th>\n",
       "      <th></th>\n",
       "      <th></th>\n",
       "      <th></th>\n",
       "      <th></th>\n",
       "      <th></th>\n",
       "      <th></th>\n",
       "      <th></th>\n",
       "    </tr>\n",
       "  </thead>\n",
       "  <tbody>\n",
       "    <tr>\n",
       "      <th>2015-01-02</th>\n",
       "      <td>26.629999</td>\n",
       "      <td>26.790001</td>\n",
       "      <td>26.393999</td>\n",
       "      <td>26.477501</td>\n",
       "      <td>26.477501</td>\n",
       "      <td>26480000</td>\n",
       "      <td>NaN</td>\n",
       "      <td>26.477501</td>\n",
       "      <td>NaN</td>\n",
       "      <td>0.000000</td>\n",
       "      <td>NaN</td>\n",
       "      <td>NaN</td>\n",
       "      <td>NaN</td>\n",
       "      <td>NaN</td>\n",
       "      <td>0.0</td>\n",
       "      <td>26.553834</td>\n",
       "      <td>25.523001</td>\n",
       "      <td>0</td>\n",
       "    </tr>\n",
       "    <tr>\n",
       "      <th>2015-01-05</th>\n",
       "      <td>26.357500</td>\n",
       "      <td>26.399500</td>\n",
       "      <td>25.887501</td>\n",
       "      <td>25.973000</td>\n",
       "      <td>25.973000</td>\n",
       "      <td>41182000</td>\n",
       "      <td>NaN</td>\n",
       "      <td>26.457717</td>\n",
       "      <td>NaN</td>\n",
       "      <td>-0.040245</td>\n",
       "      <td>NaN</td>\n",
       "      <td>NaN</td>\n",
       "      <td>NaN</td>\n",
       "      <td>NaN</td>\n",
       "      <td>-41182000.0</td>\n",
       "      <td>26.269496</td>\n",
       "      <td>25.497000</td>\n",
       "      <td>0</td>\n",
       "    </tr>\n",
       "    <tr>\n",
       "      <th>2015-01-06</th>\n",
       "      <td>26.025000</td>\n",
       "      <td>26.060499</td>\n",
       "      <td>25.277500</td>\n",
       "      <td>25.332001</td>\n",
       "      <td>25.332001</td>\n",
       "      <td>54456000</td>\n",
       "      <td>NaN</td>\n",
       "      <td>26.413571</td>\n",
       "      <td>NaN</td>\n",
       "      <td>-0.122451</td>\n",
       "      <td>NaN</td>\n",
       "      <td>NaN</td>\n",
       "      <td>NaN</td>\n",
       "      <td>NaN</td>\n",
       "      <td>-95638000.0</td>\n",
       "      <td>25.951624</td>\n",
       "      <td>26.019501</td>\n",
       "      <td>1</td>\n",
       "    </tr>\n",
       "    <tr>\n",
       "      <th>2015-01-07</th>\n",
       "      <td>25.547501</td>\n",
       "      <td>25.574499</td>\n",
       "      <td>25.182501</td>\n",
       "      <td>25.257500</td>\n",
       "      <td>25.257500</td>\n",
       "      <td>46918000</td>\n",
       "      <td>NaN</td>\n",
       "      <td>26.368235</td>\n",
       "      <td>NaN</td>\n",
       "      <td>-0.191406</td>\n",
       "      <td>NaN</td>\n",
       "      <td>NaN</td>\n",
       "      <td>NaN</td>\n",
       "      <td>NaN</td>\n",
       "      <td>-142556000.0</td>\n",
       "      <td>25.781352</td>\n",
       "      <td>26.865000</td>\n",
       "      <td>1</td>\n",
       "    </tr>\n",
       "    <tr>\n",
       "      <th>2015-01-08</th>\n",
       "      <td>25.075500</td>\n",
       "      <td>25.375000</td>\n",
       "      <td>24.750999</td>\n",
       "      <td>25.345501</td>\n",
       "      <td>25.345501</td>\n",
       "      <td>73054000</td>\n",
       "      <td>NaN</td>\n",
       "      <td>26.328128</td>\n",
       "      <td>NaN</td>\n",
       "      <td>-0.236228</td>\n",
       "      <td>NaN</td>\n",
       "      <td>NaN</td>\n",
       "      <td>NaN</td>\n",
       "      <td>NaN</td>\n",
       "      <td>-69502000.0</td>\n",
       "      <td>25.592995</td>\n",
       "      <td>27.097500</td>\n",
       "      <td>1</td>\n",
       "    </tr>\n",
       "  </tbody>\n",
       "</table>\n",
       "</div>"
      ],
      "text/plain": [
       "                 Open       High        Low      Close  Adj Close    Volume  \\\n",
       "Date                                                                          \n",
       "2015-01-02  26.629999  26.790001  26.393999  26.477501  26.477501  26480000   \n",
       "2015-01-05  26.357500  26.399500  25.887501  25.973000  25.973000  41182000   \n",
       "2015-01-06  26.025000  26.060499  25.277500  25.332001  25.332001  54456000   \n",
       "2015-01-07  25.547501  25.574499  25.182501  25.257500  25.257500  46918000   \n",
       "2015-01-08  25.075500  25.375000  24.750999  25.345501  25.345501  73054000   \n",
       "\n",
       "            SMA50      EMA50  RSI      MACD  ATR  Middle_BB  Upper_BB  \\\n",
       "Date                                                                    \n",
       "2015-01-02    NaN  26.477501  NaN  0.000000  NaN        NaN       NaN   \n",
       "2015-01-05    NaN  26.457717  NaN -0.040245  NaN        NaN       NaN   \n",
       "2015-01-06    NaN  26.413571  NaN -0.122451  NaN        NaN       NaN   \n",
       "2015-01-07    NaN  26.368235  NaN -0.191406  NaN        NaN       NaN   \n",
       "2015-01-08    NaN  26.328128  NaN -0.236228  NaN        NaN       NaN   \n",
       "\n",
       "            Lower_BB          OBV       VWAP  Future_Close  Target  \n",
       "Date                                                                \n",
       "2015-01-02       NaN          0.0  26.553834     25.523001       0  \n",
       "2015-01-05       NaN  -41182000.0  26.269496     25.497000       0  \n",
       "2015-01-06       NaN  -95638000.0  25.951624     26.019501       1  \n",
       "2015-01-07       NaN -142556000.0  25.781352     26.865000       1  \n",
       "2015-01-08       NaN  -69502000.0  25.592995     27.097500       1  "
      ]
     },
     "execution_count": 5,
     "metadata": {},
     "output_type": "execute_result"
    }
   ],
   "source": [
    "data['Future_Close'] = data['Close'].shift(-10) # Shift by 10 days\n",
    "data['Target'] = (data['Future_Close'] > data['Close']).astype(int)\n",
    "data.head()\n"
   ]
  },
  {
   "cell_type": "code",
   "execution_count": 10,
   "metadata": {},
   "outputs": [],
   "source": [
    "X = data.drop(['Target', 'Future_Close'], axis=1)\n",
    "y = data['Target']"
   ]
  },
  {
   "cell_type": "code",
   "execution_count": 15,
   "metadata": {},
   "outputs": [
    {
     "name": "stdout",
     "output_type": "stream",
     "text": [
      "[LightGBM] [Warning] Found whitespace in feature_names, replace with underlines\n",
      "[LightGBM] [Info] Number of positive: 745, number of negative: 513\n",
      "[LightGBM] [Info] Auto-choosing col-wise multi-threading, the overhead of testing was 0.000322 seconds.\n",
      "You can set `force_col_wise=true` to remove the overhead.\n",
      "[LightGBM] [Info] Total Bins 4080\n",
      "[LightGBM] [Info] Number of data points in the train set: 1258, number of used features: 16\n",
      "[LightGBM] [Info] [binary:BoostFromScore]: pavg=0.592210 -> initscore=0.373108\n",
      "[LightGBM] [Info] Start training from score 0.373108\n"
     ]
    },
    {
     "name": "stderr",
     "output_type": "stream",
     "text": [
      "/Users/hanyuwu/Library/Caches/pypoetry/virtualenvs/compare-multiple-backtests-f1m3Q6xX-py3.11/lib/python3.11/site-packages/shap/explainers/_tree.py:448: UserWarning: LightGBM binary classifier with TreeExplainer shap values output has changed to a list of ndarray\n",
      "  warnings.warn('LightGBM binary classifier with TreeExplainer shap values output has changed to a list of ndarray')\n"
     ]
    },
    {
     "data": {
      "image/png": "[encoded data removed]",
      "text/plain": [
       "<Figure size 1000x600 with 1 Axes>"
      ]
     },
     "metadata": {},
     "output_type": "display_data"
    }
   ],
   "source": [
    "model = LGBMClassifier()\n",
    "model.fit(X, y)\n",
    "\n",
    "# Step 2: Compute SHAP values\n",
    "explainer = shap.TreeExplainer(model)\n",
    "shap_values = explainer.shap_values(X)\n",
    "\n",
    "# Assuming binary classification; adjust accordingly for multi-class\n",
    "expected_value = explainer.expected_value[1] if isinstance(explainer.expected_value, list) else explainer.expected_value\n",
    "shap_values = shap_values[1] if isinstance(shap_values, list) else shap_values\n",
    "\n",
    "# Step 3: Summarize SHAP values in a DataFrame\n",
    "shap_sum = np.abs(shap_values).mean(axis=0)\n",
    "importance_df = pd.DataFrame([X.columns.tolist(), shap_sum.tolist()]).T\n",
    "importance_df.columns = ['feature', 'shap_importance']\n",
    "importance_df['shap_importance'] = importance_df['shap_importance'].astype(float)\n",
    "importance_df = importance_df.sort_values('shap_importance', ascending=False)\n",
    "\n",
    "# Step 4: Plot feature importance\n",
    "plt.figure(figsize=(10, 6))\n",
    "plt.barh(importance_df['feature'], importance_df['shap_importance'], color='royalblue')\n",
    "plt.xlabel('SHAP Importance')\n",
    "plt.title('Feature Importance based on SHAP values')\n",
    "plt.gca().invert_yaxis() # To display the most important feature on top\n",
    "plt.show()"
   ]
  },
  {
   "cell_type": "code",
   "execution_count": 17,
   "metadata": {},
   "outputs": [
    {
     "data": {
      "application/vnd.plotly.v1+json": {
       "config": {
        "plotlyServerURL": "https://plot.ly"
       },
       "data": [
        {
         "alignmentgroup": "True",
         "hovertemplate": "SHAP Importance=%{marker.color}<br>=%{y}<extra></extra>",
         "legendgroup": "",
         "marker": {
          "color": [
           0.6830859279147646,
           0.5711420655474965,
           0.5485374112321024,
           0.5313238902495194,
           0.524176079199023,
           0.5218552361056317,
           0.4320533091250309,
           0.39755897629142956,
           0.38793076873405574,
           0.34002642181953363,
           0.3129021478155825,
           0.2891329991572205,
           0.24348291225822172,
           0.20922671227249304,
           0.15313716140438402,
           0
          ],
          "coloraxis": "coloraxis",
          "pattern": {
           "shape": ""
          }
         },
         "name": "",
         "offsetgroup": "",
         "orientation": "h",
         "showlegend": false,
         "textposition": "auto",
         "type": "bar",
         "x": [
          0.6830859279147646,
          0.5711420655474965,
          0.5485374112321024,
          0.5313238902495194,
          0.524176079199023,
          0.5218552361056317,
          0.4320533091250309,
          0.39755897629142956,
          0.38793076873405574,
          0.34002642181953363,
          0.3129021478155825,
          0.2891329991572205,
          0.24348291225822172,
          0.20922671227249304,
          0.15313716140438402,
          0
         ],
         "xaxis": "x",
         "y": [
          "VWAP",
          "OBV",
          "Close",
          "Lower_BB",
          "EMA50",
          "SMA50",
          "Low",
          "Upper_BB",
          "Middle_BB",
          "MACD",
          "RSI",
          "ATR",
          "Volume",
          "High",
          "Open",
          "Adj Close"
         ],
         "yaxis": "y"
        }
       ],
       "layout": {
        "barmode": "relative",
        "coloraxis": {
         "colorbar": {
          "title": {
           "text": "SHAP Importance"
          }
         },
         "colorscale": [
          [
           0,
           "rgb(247,251,255)"
          ],
          [
           0.125,
           "rgb(222,235,247)"
          ],
          [
           0.25,
           "rgb(198,219,239)"
          ],
          [
           0.375,
           "rgb(158,202,225)"
          ],
          [
           0.5,
           "rgb(107,174,214)"
          ],
          [
           0.625,
           "rgb(66,146,198)"
          ],
          [
           0.75,
           "rgb(33,113,181)"
          ],
          [
           0.875,
           "rgb(8,81,156)"
          ],
          [
           1,
           "rgb(8,48,107)"
          ]
         ]
        },
        "legend": {
         "tracegroupgap": 0
        },
        "template": {
         "data": {
          "bar": [
           {
            "error_x": {
             "color": "#2a3f5f"
            },
            "error_y": {
             "color": "#2a3f5f"
            },
            "marker": {
             "line": {
              "color": "#E5ECF6",
              "width": 0.5
             },
             "pattern": {
              "fillmode": "overlay",
              "size": 10,
              "solidity": 0.2
             }
            },
            "type": "bar"
           }
          ],
          "barpolar": [
           {
            "marker": {
             "line": {
              "color": "#E5ECF6",
              "width": 0.5
             },
             "pattern": {
              "fillmode": "overlay",
              "size": 10,
              "solidity": 0.2
             }
            },
            "type": "barpolar"
           }
          ],
          "carpet": [
           {
            "aaxis": {
             "endlinecolor": "#2a3f5f",
             "gridcolor": "white",
             "linecolor": "white",
             "minorgridcolor": "white",
             "startlinecolor": "#2a3f5f"
            },
            "baxis": {
             "endlinecolor": "#2a3f5f",
             "gridcolor": "white",
             "linecolor": "white",
             "minorgridcolor": "white",
             "startlinecolor": "#2a3f5f"
            },
            "type": "carpet"
           }
          ],
          "choropleth": [
           {
            "colorbar": {
             "outlinewidth": 0,
             "ticks": ""
            },
            "type": "choropleth"
           }
          ],
          "contour": [
           {
            "colorbar": {
             "outlinewidth": 0,
             "ticks": ""
            },
            "colorscale": [
             [
              0,
              "#0d0887"
             ],
             [
              0.1111111111111111,
              "#46039f"
             ],
             [
              0.2222222222222222,
              "#7201a8"
             ],
             [
              0.3333333333333333,
              "#9c179e"
             ],
             [
              0.4444444444444444,
              "#bd3786"
             ],
             [
              0.5555555555555556,
              "#d8576b"
             ],
             [
              0.6666666666666666,
              "#ed7953"
             ],
             [
              0.7777777777777778,
              "#fb9f3a"
             ],
             [
              0.8888888888888888,
              "#fdca26"
             ],
             [
              1,
              "#f0f921"
             ]
            ],
            "type": "contour"
           }
          ],
          "contourcarpet": [
           {
            "colorbar": {
             "outlinewidth": 0,
             "ticks": ""
            },
            "type": "contourcarpet"
           }
          ],
          "heatmap": [
           {
            "colorbar": {
             "outlinewidth": 0,
             "ticks": ""
            },
            "colorscale": [
             [
              0,
              "#0d0887"
             ],
             [
              0.1111111111111111,
              "#46039f"
             ],
             [
              0.2222222222222222,
              "#7201a8"
             ],
             [
              0.3333333333333333,
              "#9c179e"
             ],
             [
              0.4444444444444444,
              "#bd3786"
             ],
             [
              0.5555555555555556,
              "#d8576b"
             ],
             [
              0.6666666666666666,
              "#ed7953"
             ],
             [
              0.7777777777777778,
              "#fb9f3a"
             ],
             [
              0.8888888888888888,
              "#fdca26"
             ],
             [
              1,
              "#f0f921"
             ]
            ],
            "type": "heatmap"
           }
          ],
          "heatmapgl": [
           {
            "colorbar": {
             "outlinewidth": 0,
             "ticks": ""
            },
            "colorscale": [
             [
              0,
              "#0d0887"
             ],
             [
              0.1111111111111111,
              "#46039f"
             ],
             [
              0.2222222222222222,
              "#7201a8"
             ],
             [
              0.3333333333333333,
              "#9c179e"
             ],
             [
              0.4444444444444444,
              "#bd3786"
             ],
             [
              0.5555555555555556,
              "#d8576b"
             ],
             [
              0.6666666666666666,
              "#ed7953"
             ],
             [
              0.7777777777777778,
              "#fb9f3a"
             ],
             [
              0.8888888888888888,
              "#fdca26"
             ],
             [
              1,
              "#f0f921"
             ]
            ],
            "type": "heatmapgl"
           }
          ],
          "histogram": [
           {
            "marker": {
             "pattern": {
              "fillmode": "overlay",
              "size": 10,
              "solidity": 0.2
             }
            },
            "type": "histogram"
           }
          ],
          "histogram2d": [
           {
            "colorbar": {
             "outlinewidth": 0,
             "ticks": ""
            },
            "colorscale": [
             [
              0,
              "#0d0887"
             ],
             [
              0.1111111111111111,
              "#46039f"
             ],
             [
              0.2222222222222222,
              "#7201a8"
             ],
             [
              0.3333333333333333,
              "#9c179e"
             ],
             [
              0.4444444444444444,
              "#bd3786"
             ],
             [
              0.5555555555555556,
              "#d8576b"
             ],
             [
              0.6666666666666666,
              "#ed7953"
             ],
             [
              0.7777777777777778,
              "#fb9f3a"
             ],
             [
              0.8888888888888888,
              "#fdca26"
             ],
             [
              1,
              "#f0f921"
             ]
            ],
            "type": "histogram2d"
           }
          ],
          "histogram2dcontour": [
           {
            "colorbar": {
             "outlinewidth": 0,
             "ticks": ""
            },
            "colorscale": [
             [
              0,
              "#0d0887"
             ],
             [
              0.1111111111111111,
              "#46039f"
             ],
             [
              0.2222222222222222,
              "#7201a8"
             ],
             [
              0.3333333333333333,
              "#9c179e"
             ],
             [
              0.4444444444444444,
              "#bd3786"
             ],
             [
              0.5555555555555556,
              "#d8576b"
             ],
             [
              0.6666666666666666,
              "#ed7953"
             ],
             [
              0.7777777777777778,
              "#fb9f3a"
             ],
             [
              0.8888888888888888,
              "#fdca26"
             ],
             [
              1,
              "#f0f921"
             ]
            ],
            "type": "histogram2dcontour"
           }
          ],
          "mesh3d": [
           {
            "colorbar": {
             "outlinewidth": 0,
             "ticks": ""
            },
            "type": "mesh3d"
           }
          ],
          "parcoords": [
           {
            "line": {
             "colorbar": {
              "outlinewidth": 0,
              "ticks": ""
             }
            },
            "type": "parcoords"
           }
          ],
          "pie": [
           {
            "automargin": true,
            "type": "pie"
           }
          ],
          "scatter": [
           {
            "fillpattern": {
             "fillmode": "overlay",
             "size": 10,
             "solidity": 0.2
            },
            "type": "scatter"
           }
          ],
          "scatter3d": [
           {
            "line": {
             "colorbar": {
              "outlinewidth": 0,
              "ticks": ""
             }
            },
            "marker": {
             "colorbar": {
              "outlinewidth": 0,
              "ticks": ""
             }
            },
            "type": "scatter3d"
           }
          ],
          "scattercarpet": [
           {
            "marker": {
             "colorbar": {
              "outlinewidth": 0,
              "ticks": ""
             }
            },
            "type": "scattercarpet"
           }
          ],
          "scattergeo": [
           {
            "marker": {
             "colorbar": {
              "outlinewidth": 0,
              "ticks": ""
             }
            },
            "type": "scattergeo"
           }
          ],
          "scattergl": [
           {
            "marker": {
             "colorbar": {
              "outlinewidth": 0,
              "ticks": ""
             }
            },
            "type": "scattergl"
           }
          ],
          "scattermapbox": [
           {
            "marker": {
             "colorbar": {
              "outlinewidth": 0,
              "ticks": ""
             }
            },
            "type": "scattermapbox"
           }
          ],
          "scatterpolar": [
           {
            "marker": {
             "colorbar": {
              "outlinewidth": 0,
              "ticks": ""
             }
            },
            "type": "scatterpolar"
           }
          ],
          "scatterpolargl": [
           {
            "marker": {
             "colorbar": {
              "outlinewidth": 0,
              "ticks": ""
             }
            },
            "type": "scatterpolargl"
           }
          ],
          "scatterternary": [
           {
            "marker": {
             "colorbar": {
              "outlinewidth": 0,
              "ticks": ""
             }
            },
            "type": "scatterternary"
           }
          ],
          "surface": [
           {
            "colorbar": {
             "outlinewidth": 0,
             "ticks": ""
            },
            "colorscale": [
             [
              0,
              "#0d0887"
             ],
             [
              0.1111111111111111,
              "#46039f"
             ],
             [
              0.2222222222222222,
              "#7201a8"
             ],
             [
              0.3333333333333333,
              "#9c179e"
             ],
             [
              0.4444444444444444,
              "#bd3786"
             ],
             [
              0.5555555555555556,
              "#d8576b"
             ],
             [
              0.6666666666666666,
              "#ed7953"
             ],
             [
              0.7777777777777778,
              "#fb9f3a"
             ],
             [
              0.8888888888888888,
              "#fdca26"
             ],
             [
              1,
              "#f0f921"
             ]
            ],
            "type": "surface"
           }
          ],
          "table": [
           {
            "cells": {
             "fill": {
              "color": "#EBF0F8"
             },
             "line": {
              "color": "white"
             }
            },
            "header": {
             "fill": {
              "color": "#C8D4E3"
             },
             "line": {
              "color": "white"
             }
            },
            "type": "table"
           }
          ]
         },
         "layout": {
          "annotationdefaults": {
           "arrowcolor": "#2a3f5f",
           "arrowhead": 0,
           "arrowwidth": 1
          },
          "autotypenumbers": "strict",
          "coloraxis": {
           "colorbar": {
            "outlinewidth": 0,
            "ticks": ""
           }
          },
          "colorscale": {
           "diverging": [
            [
             0,
             "#8e0152"
            ],
            [
             0.1,
             "#c51b7d"
            ],
            [
             0.2,
             "#de77ae"
            ],
            [
             0.3,
             "#f1b6da"
            ],
            [
             0.4,
             "#fde0ef"
            ],
            [
             0.5,
             "#f7f7f7"
            ],
            [
             0.6,
             "#e6f5d0"
            ],
            [
             0.7,
             "#b8e186"
            ],
            [
             0.8,
             "#7fbc41"
            ],
            [
             0.9,
             "#4d9221"
            ],
            [
             1,
             "#276419"
            ]
           ],
           "sequential": [
            [
             0,
             "#0d0887"
            ],
            [
             0.1111111111111111,
             "#46039f"
            ],
            [
             0.2222222222222222,
             "#7201a8"
            ],
            [
             0.3333333333333333,
             "#9c179e"
            ],
            [
             0.4444444444444444,
             "#bd3786"
            ],
            [
             0.5555555555555556,
             "#d8576b"
            ],
            [
             0.6666666666666666,
             "#ed7953"
            ],
            [
             0.7777777777777778,
             "#fb9f3a"
            ],
            [
             0.8888888888888888,
             "#fdca26"
            ],
            [
             1,
             "#f0f921"
            ]
           ],
           "sequentialminus": [
            [
             0,
             "#0d0887"
            ],
            [
             0.1111111111111111,
             "#46039f"
            ],
            [
             0.2222222222222222,
             "#7201a8"
            ],
            [
             0.3333333333333333,
             "#9c179e"
            ],
            [
             0.4444444444444444,
             "#bd3786"
            ],
            [
             0.5555555555555556,
             "#d8576b"
            ],
            [
             0.6666666666666666,
             "#ed7953"
            ],
            [
             0.7777777777777778,
             "#fb9f3a"
            ],
            [
             0.8888888888888888,
             "#fdca26"
            ],
            [
             1,
             "#f0f921"
            ]
           ]
          },
          "colorway": [
           "#636efa",
           "#EF553B",
           "#00cc96",
           "#ab63fa",
           "#FFA15A",
           "#19d3f3",
           "#FF6692",
           "#B6E880",
           "#FF97FF",
           "#FECB52"
          ],
          "font": {
           "color": "#2a3f5f"
          },
          "geo": {
           "bgcolor": "white",
           "lakecolor": "white",
           "landcolor": "#E5ECF6",
           "showlakes": true,
           "showland": true,
           "subunitcolor": "white"
          },
          "hoverlabel": {
           "align": "left"
          },
          "hovermode": "closest",
          "mapbox": {
           "style": "light"
          },
          "paper_bgcolor": "white",
          "plot_bgcolor": "#E5ECF6",
          "polar": {
           "angularaxis": {
            "gridcolor": "white",
            "linecolor": "white",
            "ticks": ""
           },
           "bgcolor": "#E5ECF6",
           "radialaxis": {
            "gridcolor": "white",
            "linecolor": "white",
            "ticks": ""
           }
          },
          "scene": {
           "xaxis": {
            "backgroundcolor": "#E5ECF6",
            "gridcolor": "white",
            "gridwidth": 2,
            "linecolor": "white",
            "showbackground": true,
            "ticks": "",
            "zerolinecolor": "white"
           },
           "yaxis": {
            "backgroundcolor": "#E5ECF6",
            "gridcolor": "white",
            "gridwidth": 2,
            "linecolor": "white",
            "showbackground": true,
            "ticks": "",
            "zerolinecolor": "white"
           },
           "zaxis": {
            "backgroundcolor": "#E5ECF6",
            "gridcolor": "white",
            "gridwidth": 2,
            "linecolor": "white",
            "showbackground": true,
            "ticks": "",
            "zerolinecolor": "white"
           }
          },
          "shapedefaults": {
           "line": {
            "color": "#2a3f5f"
           }
          },
          "ternary": {
           "aaxis": {
            "gridcolor": "white",
            "linecolor": "white",
            "ticks": ""
           },
           "baxis": {
            "gridcolor": "white",
            "linecolor": "white",
            "ticks": ""
           },
           "bgcolor": "#E5ECF6",
           "caxis": {
            "gridcolor": "white",
            "linecolor": "white",
            "ticks": ""
           }
          },
          "title": {
           "x": 0.05
          },
          "xaxis": {
           "automargin": true,
           "gridcolor": "white",
           "linecolor": "white",
           "ticks": "",
           "title": {
            "standoff": 15
           },
           "zerolinecolor": "white",
           "zerolinewidth": 2
          },
          "yaxis": {
           "automargin": true,
           "gridcolor": "white",
           "linecolor": "white",
           "ticks": "",
           "title": {
            "standoff": 15
           },
           "zerolinecolor": "white",
           "zerolinewidth": 2
          }
         }
        },
        "title": {
         "text": "Feature Importance based on SHAP values"
        },
        "xaxis": {
         "anchor": "y",
         "domain": [
          0,
          1
         ],
         "title": {
          "text": "SHAP Importance"
         }
        },
        "yaxis": {
         "anchor": "x",
         "categoryorder": "total ascending",
         "domain": [
          0,
          1
         ],
         "title": {
          "text": ""
         }
        }
       }
      }
     },
     "metadata": {},
     "output_type": "display_data"
    }
   ],
   "source": [
    "fig = px.bar(importance_df, x='shap_importance', y='feature', orientation='h', \n",
    "             title='Feature Importance based on SHAP values', color='shap_importance',\n",
    "             labels={'shap_importance':'SHAP Importance', 'feature':''}, color_continuous_scale='Blues')\n",
    "\n",
    "fig.update_layout(yaxis={'categoryorder':'total ascending'})\n",
    "\n",
    "fig.show()"
   ]
  },
  {
   "cell_type": "code",
   "execution_count": 21,
   "metadata": {},
   "outputs": [],
   "source": [
    "top_5_features = importance_df.sort_values(by='shap_importance', ascending=False).head(5)\n",
    "selected_features = top_5_features[\"feature\"].tolist()"
   ]
  },
  {
   "cell_type": "code",
   "execution_count": 22,
   "metadata": {},
   "outputs": [
    {
     "data": {
      "text/plain": [
       "['VWAP', 'OBV', 'Close', 'Lower_BB', 'EMA50']"
      ]
     },
     "execution_count": 22,
     "metadata": {},
     "output_type": "execute_result"
    }
   ],
   "source": [
    "selected_features"
   ]
  },
  {
   "cell_type": "code",
   "execution_count": 23,
   "metadata": {},
   "outputs": [],
   "source": [
    "X_train, X_test, y_train, y_test = train_test_split(X, y, test_size=0.2, random_state=42)"
   ]
  },
  {
   "cell_type": "code",
   "execution_count": 24,
   "metadata": {},
   "outputs": [
    {
     "name": "stdout",
     "output_type": "stream",
     "text": [
      "[LightGBM] [Info] Number of positive: 586, number of negative: 420\n",
      "[LightGBM] [Info] Auto-choosing col-wise multi-threading, the overhead of testing was 0.000268 seconds.\n",
      "You can set `force_col_wise=true` to remove the overhead.\n",
      "[LightGBM] [Info] Total Bins 1275\n",
      "[LightGBM] [Info] Number of data points in the train set: 1006, number of used features: 5\n",
      "[LightGBM] [Info] [binary:BoostFromScore]: pavg=0.582505 -> initscore=0.333065\n",
      "[LightGBM] [Info] Start training from score 0.333065\n"
     ]
    },
    {
     "data": {
      "text/html": [
       "<style>#sk-container-id-1 {\n",
       "  /* Definition of color scheme common for light and dark mode */\n",
       "  --sklearn-color-text: black;\n",
       "  --sklearn-color-line: gray;\n",
       "  /* Definition of color scheme for unfitted estimators */\n",
       "  --sklearn-color-unfitted-level-0: #fff5e6;\n",
       "  --sklearn-color-unfitted-level-1: #f6e4d2;\n",
       "  --sklearn-color-unfitted-level-2: #ffe0b3;\n",
       "  --sklearn-color-unfitted-level-3: chocolate;\n",
       "  /* Definition of color scheme for fitted estimators */\n",
       "  --sklearn-color-fitted-level-0: #f0f8ff;\n",
       "  --sklearn-color-fitted-level-1: #d4ebff;\n",
       "  --sklearn-color-fitted-level-2: #b3dbfd;\n",
       "  --sklearn-color-fitted-level-3: cornflowerblue;\n",
       "\n",
       "  /* Specific color for light theme */\n",
       "  --sklearn-color-text-on-default-background: var(--sg-text-color, var(--theme-code-foreground, var(--jp-content-font-color1, black)));\n",
       "  --sklearn-color-background: var(--sg-background-color, var(--theme-background, var(--jp-layout-color0, white)));\n",
       "  --sklearn-color-border-box: var(--sg-text-color, var(--theme-code-foreground, var(--jp-content-font-color1, black)));\n",
       "  --sklearn-color-icon: #696969;\n",
       "\n",
       "  @media (prefers-color-scheme: dark) {\n",
       "    /* Redefinition of color scheme for dark theme */\n",
       "    --sklearn-color-text-on-default-background: var(--sg-text-color, var(--theme-code-foreground, var(--jp-content-font-color1, white)));\n",
       "    --sklearn-color-background: var(--sg-background-color, var(--theme-background, var(--jp-layout-color0, #111)));\n",
       "    --sklearn-color-border-box: var(--sg-text-color, var(--theme-code-foreground, var(--jp-content-font-color1, white)));\n",
       "    --sklearn-color-icon: #878787;\n",
       "  }\n",
       "}\n",
       "\n",
       "#sk-container-id-1 {\n",
       "  color: var(--sklearn-color-text);\n",
       "}\n",
       "\n",
       "#sk-container-id-1 pre {\n",
       "  padding: 0;\n",
       "}\n",
       "\n",
       "#sk-container-id-1 input.sk-hidden--visually {\n",
       "  border: 0;\n",
       "  clip: rect(1px 1px 1px 1px);\n",
       "  clip: rect(1px, 1px, 1px, 1px);\n",
       "  height: 1px;\n",
       "  margin: -1px;\n",
       "  overflow: hidden;\n",
       "  padding: 0;\n",
       "  position: absolute;\n",
       "  width: 1px;\n",
       "}\n",
       "\n",
       "#sk-container-id-1 div.sk-dashed-wrapped {\n",
       "  border: 1px dashed var(--sklearn-color-line);\n",
       "  margin: 0 0.4em 0.5em 0.4em;\n",
       "  box-sizing: border-box;\n",
       "  padding-bottom: 0.4em;\n",
       "  background-color: var(--sklearn-color-background);\n",
       "}\n",
       "\n",
       "#sk-container-id-1 div.sk-container {\n",
       "  /* jupyter's `normalize.less` sets `[hidden] { display: none; }`\n",
       "     but bootstrap.min.css set `[hidden] { display: none !important; }`\n",
       "     so we also need the `!important` here to be able to override the\n",
       "     default hidden behavior on the sphinx rendered scikit-learn.org.\n",
       "     See: https://github.com/scikit-learn/scikit-learn/issues/21755 */\n",
       "  display: inline-block !important;\n",
       "  position: relative;\n",
       "}\n",
       "\n",
       "#sk-container-id-1 div.sk-text-repr-fallback {\n",
       "  display: none;\n",
       "}\n",
       "\n",
       "div.sk-parallel-item,\n",
       "div.sk-serial,\n",
       "div.sk-item {\n",
       "  /* draw centered vertical line to link estimators */\n",
       "  background-image: linear-gradient(var(--sklearn-color-text-on-default-background), var(--sklearn-color-text-on-default-background));\n",
       "  background-size: 2px 100%;\n",
       "  background-repeat: no-repeat;\n",
       "  background-position: center center;\n",
       "}\n",
       "\n",
       "/* Parallel-specific style estimator block */\n",
       "\n",
       "#sk-container-id-1 div.sk-parallel-item::after {\n",
       "  content: \"\";\n",
       "  width: 100%;\n",
       "  border-bottom: 2px solid var(--sklearn-color-text-on-default-background);\n",
       "  flex-grow: 1;\n",
       "}\n",
       "\n",
       "#sk-container-id-1 div.sk-parallel {\n",
       "  display: flex;\n",
       "  align-items: stretch;\n",
       "  justify-content: center;\n",
       "  background-color: var(--sklearn-color-background);\n",
       "  position: relative;\n",
       "}\n",
       "\n",
       "#sk-container-id-1 div.sk-parallel-item {\n",
       "  display: flex;\n",
       "  flex-direction: column;\n",
       "}\n",
       "\n",
       "#sk-container-id-1 div.sk-parallel-item:first-child::after {\n",
       "  align-self: flex-end;\n",
       "  width: 50%;\n",
       "}\n",
       "\n",
       "#sk-container-id-1 div.sk-parallel-item:last-child::after {\n",
       "  align-self: flex-start;\n",
       "  width: 50%;\n",
       "}\n",
       "\n",
       "#sk-container-id-1 div.sk-parallel-item:only-child::after {\n",
       "  width: 0;\n",
       "}\n",
       "\n",
       "/* Serial-specific style estimator block */\n",
       "\n",
       "#sk-container-id-1 div.sk-serial {\n",
       "  display: flex;\n",
       "  flex-direction: column;\n",
       "  align-items: center;\n",
       "  background-color: var(--sklearn-color-background);\n",
       "  padding-right: 1em;\n",
       "  padding-left: 1em;\n",
       "}\n",
       "\n",
       "\n",
       "/* Toggleable style: style used for estimator/Pipeline/ColumnTransformer box that is\n",
       "clickable and can be expanded/collapsed.\n",
       "- Pipeline and ColumnTransformer use this feature and define the default style\n",
       "- Estimators will overwrite some part of the style using the `sk-estimator` class\n",
       "*/\n",
       "\n",
       "/* Pipeline and ColumnTransformer style (default) */\n",
       "\n",
       "#sk-container-id-1 div.sk-toggleable {\n",
       "  /* Default theme specific background. It is overwritten whether we have a\n",
       "  specific estimator or a Pipeline/ColumnTransformer */\n",
       "  background-color: var(--sklearn-color-background);\n",
       "}\n",
       "\n",
       "/* Toggleable label */\n",
       "#sk-container-id-1 label.sk-toggleable__label {\n",
       "  cursor: pointer;\n",
       "  display: block;\n",
       "  width: 100%;\n",
       "  margin-bottom: 0;\n",
       "  padding: 0.5em;\n",
       "  box-sizing: border-box;\n",
       "  text-align: center;\n",
       "}\n",
       "\n",
       "#sk-container-id-1 label.sk-toggleable__label-arrow:before {\n",
       "  /* Arrow on the left of the label */\n",
       "  content: \"▸\";\n",
       "  float: left;\n",
       "  margin-right: 0.25em;\n",
       "  color: var(--sklearn-color-icon);\n",
       "}\n",
       "\n",
       "#sk-container-id-1 label.sk-toggleable__label-arrow:hover:before {\n",
       "  color: var(--sklearn-color-text);\n",
       "}\n",
       "\n",
       "/* Toggleable content - dropdown */\n",
       "\n",
       "#sk-container-id-1 div.sk-toggleable__content {\n",
       "  max-height: 0;\n",
       "  max-width: 0;\n",
       "  overflow: hidden;\n",
       "  text-align: left;\n",
       "  /* unfitted */\n",
       "  background-color: var(--sklearn-color-unfitted-level-0);\n",
       "}\n",
       "\n",
       "#sk-container-id-1 div.sk-toggleable__content.fitted {\n",
       "  /* fitted */\n",
       "  background-color: var(--sklearn-color-fitted-level-0);\n",
       "}\n",
       "\n",
       "#sk-container-id-1 div.sk-toggleable__content pre {\n",
       "  margin: 0.2em;\n",
       "  border-radius: 0.25em;\n",
       "  color: var(--sklearn-color-text);\n",
       "  /* unfitted */\n",
       "  background-color: var(--sklearn-color-unfitted-level-0);\n",
       "}\n",
       "\n",
       "#sk-container-id-1 div.sk-toggleable__content.fitted pre {\n",
       "  /* unfitted */\n",
       "  background-color: var(--sklearn-color-fitted-level-0);\n",
       "}\n",
       "\n",
       "#sk-container-id-1 input.sk-toggleable__control:checked~div.sk-toggleable__content {\n",
       "  /* Expand drop-down */\n",
       "  max-height: 200px;\n",
       "  max-width: 100%;\n",
       "  overflow: auto;\n",
       "}\n",
       "\n",
       "#sk-container-id-1 input.sk-toggleable__control:checked~label.sk-toggleable__label-arrow:before {\n",
       "  content: \"▾\";\n",
       "}\n",
       "\n",
       "/* Pipeline/ColumnTransformer-specific style */\n",
       "\n",
       "#sk-container-id-1 div.sk-label input.sk-toggleable__control:checked~label.sk-toggleable__label {\n",
       "  color: var(--sklearn-color-text);\n",
       "  background-color: var(--sklearn-color-unfitted-level-2);\n",
       "}\n",
       "\n",
       "#sk-container-id-1 div.sk-label.fitted input.sk-toggleable__control:checked~label.sk-toggleable__label {\n",
       "  background-color: var(--sklearn-color-fitted-level-2);\n",
       "}\n",
       "\n",
       "/* Estimator-specific style */\n",
       "\n",
       "/* Colorize estimator box */\n",
       "#sk-container-id-1 div.sk-estimator input.sk-toggleable__control:checked~label.sk-toggleable__label {\n",
       "  /* unfitted */\n",
       "  background-color: var(--sklearn-color-unfitted-level-2);\n",
       "}\n",
       "\n",
       "#sk-container-id-1 div.sk-estimator.fitted input.sk-toggleable__control:checked~label.sk-toggleable__label {\n",
       "  /* fitted */\n",
       "  background-color: var(--sklearn-color-fitted-level-2);\n",
       "}\n",
       "\n",
       "#sk-container-id-1 div.sk-label label.sk-toggleable__label,\n",
       "#sk-container-id-1 div.sk-label label {\n",
       "  /* The background is the default theme color */\n",
       "  color: var(--sklearn-color-text-on-default-background);\n",
       "}\n",
       "\n",
       "/* On hover, darken the color of the background */\n",
       "#sk-container-id-1 div.sk-label:hover label.sk-toggleable__label {\n",
       "  color: var(--sklearn-color-text);\n",
       "  background-color: var(--sklearn-color-unfitted-level-2);\n",
       "}\n",
       "\n",
       "/* Label box, darken color on hover, fitted */\n",
       "#sk-container-id-1 div.sk-label.fitted:hover label.sk-toggleable__label.fitted {\n",
       "  color: var(--sklearn-color-text);\n",
       "  background-color: var(--sklearn-color-fitted-level-2);\n",
       "}\n",
       "\n",
       "/* Estimator label */\n",
       "\n",
       "#sk-container-id-1 div.sk-label label {\n",
       "  font-family: monospace;\n",
       "  font-weight: bold;\n",
       "  display: inline-block;\n",
       "  line-height: 1.2em;\n",
       "}\n",
       "\n",
       "#sk-container-id-1 div.sk-label-container {\n",
       "  text-align: center;\n",
       "}\n",
       "\n",
       "/* Estimator-specific */\n",
       "#sk-container-id-1 div.sk-estimator {\n",
       "  font-family: monospace;\n",
       "  border: 1px dotted var(--sklearn-color-border-box);\n",
       "  border-radius: 0.25em;\n",
       "  box-sizing: border-box;\n",
       "  margin-bottom: 0.5em;\n",
       "  /* unfitted */\n",
       "  background-color: var(--sklearn-color-unfitted-level-0);\n",
       "}\n",
       "\n",
       "#sk-container-id-1 div.sk-estimator.fitted {\n",
       "  /* fitted */\n",
       "  background-color: var(--sklearn-color-fitted-level-0);\n",
       "}\n",
       "\n",
       "/* on hover */\n",
       "#sk-container-id-1 div.sk-estimator:hover {\n",
       "  /* unfitted */\n",
       "  background-color: var(--sklearn-color-unfitted-level-2);\n",
       "}\n",
       "\n",
       "#sk-container-id-1 div.sk-estimator.fitted:hover {\n",
       "  /* fitted */\n",
       "  background-color: var(--sklearn-color-fitted-level-2);\n",
       "}\n",
       "\n",
       "/* Specification for estimator info (e.g. \"i\" and \"?\") */\n",
       "\n",
       "/* Common style for \"i\" and \"?\" */\n",
       "\n",
       ".sk-estimator-doc-link,\n",
       "a:link.sk-estimator-doc-link,\n",
       "a:visited.sk-estimator-doc-link {\n",
       "  float: right;\n",
       "  font-size: smaller;\n",
       "  line-height: 1em;\n",
       "  font-family: monospace;\n",
       "  background-color: var(--sklearn-color-background);\n",
       "  border-radius: 1em;\n",
       "  height: 1em;\n",
       "  width: 1em;\n",
       "  text-decoration: none !important;\n",
       "  margin-left: 1ex;\n",
       "  /* unfitted */\n",
       "  border: var(--sklearn-color-unfitted-level-1) 1pt solid;\n",
       "  color: var(--sklearn-color-unfitted-level-1);\n",
       "}\n",
       "\n",
       ".sk-estimator-doc-link.fitted,\n",
       "a:link.sk-estimator-doc-link.fitted,\n",
       "a:visited.sk-estimator-doc-link.fitted {\n",
       "  /* fitted */\n",
       "  border: var(--sklearn-color-fitted-level-1) 1pt solid;\n",
       "  color: var(--sklearn-color-fitted-level-1);\n",
       "}\n",
       "\n",
       "/* On hover */\n",
       "div.sk-estimator:hover .sk-estimator-doc-link:hover,\n",
       ".sk-estimator-doc-link:hover,\n",
       "div.sk-label-container:hover .sk-estimator-doc-link:hover,\n",
       ".sk-estimator-doc-link:hover {\n",
       "  /* unfitted */\n",
       "  background-color: var(--sklearn-color-unfitted-level-3);\n",
       "  color: var(--sklearn-color-background);\n",
       "  text-decoration: none;\n",
       "}\n",
       "\n",
       "div.sk-estimator.fitted:hover .sk-estimator-doc-link.fitted:hover,\n",
       ".sk-estimator-doc-link.fitted:hover,\n",
       "div.sk-label-container:hover .sk-estimator-doc-link.fitted:hover,\n",
       ".sk-estimator-doc-link.fitted:hover {\n",
       "  /* fitted */\n",
       "  background-color: var(--sklearn-color-fitted-level-3);\n",
       "  color: var(--sklearn-color-background);\n",
       "  text-decoration: none;\n",
       "}\n",
       "\n",
       "/* Span, style for the box shown on hovering the info icon */\n",
       ".sk-estimator-doc-link span {\n",
       "  display: none;\n",
       "  z-index: 9999;\n",
       "  position: relative;\n",
       "  font-weight: normal;\n",
       "  right: .2ex;\n",
       "  padding: .5ex;\n",
       "  margin: .5ex;\n",
       "  width: min-content;\n",
       "  min-width: 20ex;\n",
       "  max-width: 50ex;\n",
       "  color: var(--sklearn-color-text);\n",
       "  box-shadow: 2pt 2pt 4pt #999;\n",
       "  /* unfitted */\n",
       "  background: var(--sklearn-color-unfitted-level-0);\n",
       "  border: .5pt solid var(--sklearn-color-unfitted-level-3);\n",
       "}\n",
       "\n",
       ".sk-estimator-doc-link.fitted span {\n",
       "  /* fitted */\n",
       "  background: var(--sklearn-color-fitted-level-0);\n",
       "  border: var(--sklearn-color-fitted-level-3);\n",
       "}\n",
       "\n",
       ".sk-estimator-doc-link:hover span {\n",
       "  display: block;\n",
       "}\n",
       "\n",
       "/* \"?\"-specific style due to the `<a>` HTML tag */\n",
       "\n",
       "#sk-container-id-1 a.estimator_doc_link {\n",
       "  float: right;\n",
       "  font-size: 1rem;\n",
       "  line-height: 1em;\n",
       "  font-family: monospace;\n",
       "  background-color: var(--sklearn-color-background);\n",
       "  border-radius: 1rem;\n",
       "  height: 1rem;\n",
       "  width: 1rem;\n",
       "  text-decoration: none;\n",
       "  /* unfitted */\n",
       "  color: var(--sklearn-color-unfitted-level-1);\n",
       "  border: var(--sklearn-color-unfitted-level-1) 1pt solid;\n",
       "}\n",
       "\n",
       "#sk-container-id-1 a.estimator_doc_link.fitted {\n",
       "  /* fitted */\n",
       "  border: var(--sklearn-color-fitted-level-1) 1pt solid;\n",
       "  color: var(--sklearn-color-fitted-level-1);\n",
       "}\n",
       "\n",
       "/* On hover */\n",
       "#sk-container-id-1 a.estimator_doc_link:hover {\n",
       "  /* unfitted */\n",
       "  background-color: var(--sklearn-color-unfitted-level-3);\n",
       "  color: var(--sklearn-color-background);\n",
       "  text-decoration: none;\n",
       "}\n",
       "\n",
       "#sk-container-id-1 a.estimator_doc_link.fitted:hover {\n",
       "  /* fitted */\n",
       "  background-color: var(--sklearn-color-fitted-level-3);\n",
       "}\n",
       "</style><div id=\"sk-container-id-1\" class=\"sk-top-container\"><div class=\"sk-text-repr-fallback\"><pre>LGBMClassifier(random_state=42)</pre><b>In a Jupyter environment, please rerun this cell to show the HTML representation or trust the notebook. <br />On GitHub, the HTML representation is unable to render, please try loading this page with nbviewer.org.</b></div><div class=\"sk-container\" hidden><div class=\"sk-item\"><div class=\"sk-estimator fitted sk-toggleable\"><input class=\"sk-toggleable__control sk-hidden--visually\" id=\"sk-estimator-id-1\" type=\"checkbox\" checked><label for=\"sk-estimator-id-1\" class=\"sk-toggleable__label fitted sk-toggleable__label-arrow fitted\">&nbsp;LGBMClassifier<span class=\"sk-estimator-doc-link fitted\">i<span>Fitted</span></span></label><div class=\"sk-toggleable__content fitted\"><pre>LGBMClassifier(random_state=42)</pre></div> </div></div></div></div>"
      ],
      "text/plain": [
       "LGBMClassifier(random_state=42)"
      ]
     },
     "execution_count": 24,
     "metadata": {},
     "output_type": "execute_result"
    }
   ],
   "source": [
    "# Assuming `selected_features` are the features selected through some feature selection process\n",
    "X_train_selected = X_train[selected_features]\n",
    "X_test_selected = X_test[selected_features]\n",
    "\n",
    "# Initialize and train the model using the selected features\n",
    "model = LGBMClassifier(random_state=42)\n",
    "model.fit(X_train_selected, y_train)\n"
   ]
  },
  {
   "cell_type": "code",
   "execution_count": 25,
   "metadata": {},
   "outputs": [
    {
     "name": "stdout",
     "output_type": "stream",
     "text": [
      "Model Accuracy: 0.8650793650793651\n"
     ]
    }
   ],
   "source": [
    "# Predict on the test set\n",
    "predictions = model.predict(X_test_selected)\n",
    "\n",
    "# Calculate accuracy or any other performance metrics\n",
    "from sklearn.metrics import accuracy_score\n",
    "accuracy = accuracy_score(y_test, predictions)\n",
    "print(f\"Model Accuracy: {accuracy}\")\n"
   ]
  },
  {
   "cell_type": "code",
   "execution_count": 26,
   "metadata": {},
   "outputs": [
    {
     "data": {
      "image/png": "[encoded data removed]",
      "text/plain": [
       "<Figure size 1000x600 with 1 Axes>"
      ]
     },
     "metadata": {},
     "output_type": "display_data"
    }
   ],
   "source": [
    "import matplotlib.pyplot as plt\n",
    "\n",
    "# Predict probabilities for the positive class (e.g., class \"1\")\n",
    "probabilities = model.predict_proba(X_test_selected)[:, 1]\n",
    "\n",
    "# Create a DataFrame to hold actual and predicted values\n",
    "results_df = pd.DataFrame({'Actual': y_test, 'Predicted': probabilities})\n",
    "\n",
    "# Sort the DataFrame by predicted probabilities for better visualization\n",
    "results_df = results_df.sort_values(by='Predicted')\n",
    "\n",
    "# Plotting\n",
    "plt.figure(figsize=(10, 6))\n",
    "plt.plot(results_df['Predicted'].values, label='Predicted Probability of Class 1', color='blue')\n",
    "plt.scatter(range(len(results_df)), results_df['Actual'].values, marker='.', label='Actual Outcome', color='red')\n",
    "\n",
    "# Enhancing the plot\n",
    "plt.title('Predicted Probabilities vs. Actual Outcomes')\n",
    "plt.xlabel('Sample Index (sorted by predicted probability)')\n",
    "plt.ylabel('Probability / Actual Outcome')\n",
    "plt.legend()\n",
    "plt.show()\n"
   ]
  },
  {
   "cell_type": "code",
   "execution_count": 27,
   "metadata": {},
   "outputs": [
    {
     "name": "stdout",
     "output_type": "stream",
     "text": [
      "[LightGBM] [Info] Number of positive: 745, number of negative: 513\n",
      "[LightGBM] [Info] Auto-choosing col-wise multi-threading, the overhead of testing was 0.000356 seconds.\n",
      "You can set `force_col_wise=true` to remove the overhead.\n",
      "[LightGBM] [Info] Total Bins 1275\n",
      "[LightGBM] [Info] Number of data points in the train set: 1258, number of used features: 5\n",
      "[LightGBM] [Info] [binary:BoostFromScore]: pavg=0.592210 -> initscore=0.373108\n",
      "[LightGBM] [Info] Start training from score 0.373108\n"
     ]
    },
    {
     "data": {
      "text/html": [
       "<style>#sk-container-id-2 {\n",
       "  /* Definition of color scheme common for light and dark mode */\n",
       "  --sklearn-color-text: black;\n",
       "  --sklearn-color-line: gray;\n",
       "  /* Definition of color scheme for unfitted estimators */\n",
       "  --sklearn-color-unfitted-level-0: #fff5e6;\n",
       "  --sklearn-color-unfitted-level-1: #f6e4d2;\n",
       "  --sklearn-color-unfitted-level-2: #ffe0b3;\n",
       "  --sklearn-color-unfitted-level-3: chocolate;\n",
       "  /* Definition of color scheme for fitted estimators */\n",
       "  --sklearn-color-fitted-level-0: #f0f8ff;\n",
       "  --sklearn-color-fitted-level-1: #d4ebff;\n",
       "  --sklearn-color-fitted-level-2: #b3dbfd;\n",
       "  --sklearn-color-fitted-level-3: cornflowerblue;\n",
       "\n",
       "  /* Specific color for light theme */\n",
       "  --sklearn-color-text-on-default-background: var(--sg-text-color, var(--theme-code-foreground, var(--jp-content-font-color1, black)));\n",
       "  --sklearn-color-background: var(--sg-background-color, var(--theme-background, var(--jp-layout-color0, white)));\n",
       "  --sklearn-color-border-box: var(--sg-text-color, var(--theme-code-foreground, var(--jp-content-font-color1, black)));\n",
       "  --sklearn-color-icon: #696969;\n",
       "\n",
       "  @media (prefers-color-scheme: dark) {\n",
       "    /* Redefinition of color scheme for dark theme */\n",
       "    --sklearn-color-text-on-default-background: var(--sg-text-color, var(--theme-code-foreground, var(--jp-content-font-color1, white)));\n",
       "    --sklearn-color-background: var(--sg-background-color, var(--theme-background, var(--jp-layout-color0, #111)));\n",
       "    --sklearn-color-border-box: var(--sg-text-color, var(--theme-code-foreground, var(--jp-content-font-color1, white)));\n",
       "    --sklearn-color-icon: #878787;\n",
       "  }\n",
       "}\n",
       "\n",
       "#sk-container-id-2 {\n",
       "  color: var(--sklearn-color-text);\n",
       "}\n",
       "\n",
       "#sk-container-id-2 pre {\n",
       "  padding: 0;\n",
       "}\n",
       "\n",
       "#sk-container-id-2 input.sk-hidden--visually {\n",
       "  border: 0;\n",
       "  clip: rect(1px 1px 1px 1px);\n",
       "  clip: rect(1px, 1px, 1px, 1px);\n",
       "  height: 1px;\n",
       "  margin: -1px;\n",
       "  overflow: hidden;\n",
       "  padding: 0;\n",
       "  position: absolute;\n",
       "  width: 1px;\n",
       "}\n",
       "\n",
       "#sk-container-id-2 div.sk-dashed-wrapped {\n",
       "  border: 1px dashed var(--sklearn-color-line);\n",
       "  margin: 0 0.4em 0.5em 0.4em;\n",
       "  box-sizing: border-box;\n",
       "  padding-bottom: 0.4em;\n",
       "  background-color: var(--sklearn-color-background);\n",
       "}\n",
       "\n",
       "#sk-container-id-2 div.sk-container {\n",
       "  /* jupyter's `normalize.less` sets `[hidden] { display: none; }`\n",
       "     but bootstrap.min.css set `[hidden] { display: none !important; }`\n",
       "     so we also need the `!important` here to be able to override the\n",
       "     default hidden behavior on the sphinx rendered scikit-learn.org.\n",
       "     See: https://github.com/scikit-learn/scikit-learn/issues/21755 */\n",
       "  display: inline-block !important;\n",
       "  position: relative;\n",
       "}\n",
       "\n",
       "#sk-container-id-2 div.sk-text-repr-fallback {\n",
       "  display: none;\n",
       "}\n",
       "\n",
       "div.sk-parallel-item,\n",
       "div.sk-serial,\n",
       "div.sk-item {\n",
       "  /* draw centered vertical line to link estimators */\n",
       "  background-image: linear-gradient(var(--sklearn-color-text-on-default-background), var(--sklearn-color-text-on-default-background));\n",
       "  background-size: 2px 100%;\n",
       "  background-repeat: no-repeat;\n",
       "  background-position: center center;\n",
       "}\n",
       "\n",
       "/* Parallel-specific style estimator block */\n",
       "\n",
       "#sk-container-id-2 div.sk-parallel-item::after {\n",
       "  content: \"\";\n",
       "  width: 100%;\n",
       "  border-bottom: 2px solid var(--sklearn-color-text-on-default-background);\n",
       "  flex-grow: 1;\n",
       "}\n",
       "\n",
       "#sk-container-id-2 div.sk-parallel {\n",
       "  display: flex;\n",
       "  align-items: stretch;\n",
       "  justify-content: center;\n",
       "  background-color: var(--sklearn-color-background);\n",
       "  position: relative;\n",
       "}\n",
       "\n",
       "#sk-container-id-2 div.sk-parallel-item {\n",
       "  display: flex;\n",
       "  flex-direction: column;\n",
       "}\n",
       "\n",
       "#sk-container-id-2 div.sk-parallel-item:first-child::after {\n",
       "  align-self: flex-end;\n",
       "  width: 50%;\n",
       "}\n",
       "\n",
       "#sk-container-id-2 div.sk-parallel-item:last-child::after {\n",
       "  align-self: flex-start;\n",
       "  width: 50%;\n",
       "}\n",
       "\n",
       "#sk-container-id-2 div.sk-parallel-item:only-child::after {\n",
       "  width: 0;\n",
       "}\n",
       "\n",
       "/* Serial-specific style estimator block */\n",
       "\n",
       "#sk-container-id-2 div.sk-serial {\n",
       "  display: flex;\n",
       "  flex-direction: column;\n",
       "  align-items: center;\n",
       "  background-color: var(--sklearn-color-background);\n",
       "  padding-right: 1em;\n",
       "  padding-left: 1em;\n",
       "}\n",
       "\n",
       "\n",
       "/* Toggleable style: style used for estimator/Pipeline/ColumnTransformer box that is\n",
       "clickable and can be expanded/collapsed.\n",
       "- Pipeline and ColumnTransformer use this feature and define the default style\n",
       "- Estimators will overwrite some part of the style using the `sk-estimator` class\n",
       "*/\n",
       "\n",
       "/* Pipeline and ColumnTransformer style (default) */\n",
       "\n",
       "#sk-container-id-2 div.sk-toggleable {\n",
       "  /* Default theme specific background. It is overwritten whether we have a\n",
       "  specific estimator or a Pipeline/ColumnTransformer */\n",
       "  background-color: var(--sklearn-color-background);\n",
       "}\n",
       "\n",
       "/* Toggleable label */\n",
       "#sk-container-id-2 label.sk-toggleable__label {\n",
       "  cursor: pointer;\n",
       "  display: block;\n",
       "  width: 100%;\n",
       "  margin-bottom: 0;\n",
       "  padding: 0.5em;\n",
       "  box-sizing: border-box;\n",
       "  text-align: center;\n",
       "}\n",
       "\n",
       "#sk-container-id-2 label.sk-toggleable__label-arrow:before {\n",
       "  /* Arrow on the left of the label */\n",
       "  content: \"▸\";\n",
       "  float: left;\n",
       "  margin-right: 0.25em;\n",
       "  color: var(--sklearn-color-icon);\n",
       "}\n",
       "\n",
       "#sk-container-id-2 label.sk-toggleable__label-arrow:hover:before {\n",
       "  color: var(--sklearn-color-text);\n",
       "}\n",
       "\n",
       "/* Toggleable content - dropdown */\n",
       "\n",
       "#sk-container-id-2 div.sk-toggleable__content {\n",
       "  max-height: 0;\n",
       "  max-width: 0;\n",
       "  overflow: hidden;\n",
       "  text-align: left;\n",
       "  /* unfitted */\n",
       "  background-color: var(--sklearn-color-unfitted-level-0);\n",
       "}\n",
       "\n",
       "#sk-container-id-2 div.sk-toggleable__content.fitted {\n",
       "  /* fitted */\n",
       "  background-color: var(--sklearn-color-fitted-level-0);\n",
       "}\n",
       "\n",
       "#sk-container-id-2 div.sk-toggleable__content pre {\n",
       "  margin: 0.2em;\n",
       "  border-radius: 0.25em;\n",
       "  color: var(--sklearn-color-text);\n",
       "  /* unfitted */\n",
       "  background-color: var(--sklearn-color-unfitted-level-0);\n",
       "}\n",
       "\n",
       "#sk-container-id-2 div.sk-toggleable__content.fitted pre {\n",
       "  /* unfitted */\n",
       "  background-color: var(--sklearn-color-fitted-level-0);\n",
       "}\n",
       "\n",
       "#sk-container-id-2 input.sk-toggleable__control:checked~div.sk-toggleable__content {\n",
       "  /* Expand drop-down */\n",
       "  max-height: 200px;\n",
       "  max-width: 100%;\n",
       "  overflow: auto;\n",
       "}\n",
       "\n",
       "#sk-container-id-2 input.sk-toggleable__control:checked~label.sk-toggleable__label-arrow:before {\n",
       "  content: \"▾\";\n",
       "}\n",
       "\n",
       "/* Pipeline/ColumnTransformer-specific style */\n",
       "\n",
       "#sk-container-id-2 div.sk-label input.sk-toggleable__control:checked~label.sk-toggleable__label {\n",
       "  color: var(--sklearn-color-text);\n",
       "  background-color: var(--sklearn-color-unfitted-level-2);\n",
       "}\n",
       "\n",
       "#sk-container-id-2 div.sk-label.fitted input.sk-toggleable__control:checked~label.sk-toggleable__label {\n",
       "  background-color: var(--sklearn-color-fitted-level-2);\n",
       "}\n",
       "\n",
       "/* Estimator-specific style */\n",
       "\n",
       "/* Colorize estimator box */\n",
       "#sk-container-id-2 div.sk-estimator input.sk-toggleable__control:checked~label.sk-toggleable__label {\n",
       "  /* unfitted */\n",
       "  background-color: var(--sklearn-color-unfitted-level-2);\n",
       "}\n",
       "\n",
       "#sk-container-id-2 div.sk-estimator.fitted input.sk-toggleable__control:checked~label.sk-toggleable__label {\n",
       "  /* fitted */\n",
       "  background-color: var(--sklearn-color-fitted-level-2);\n",
       "}\n",
       "\n",
       "#sk-container-id-2 div.sk-label label.sk-toggleable__label,\n",
       "#sk-container-id-2 div.sk-label label {\n",
       "  /* The background is the default theme color */\n",
       "  color: var(--sklearn-color-text-on-default-background);\n",
       "}\n",
       "\n",
       "/* On hover, darken the color of the background */\n",
       "#sk-container-id-2 div.sk-label:hover label.sk-toggleable__label {\n",
       "  color: var(--sklearn-color-text);\n",
       "  background-color: var(--sklearn-color-unfitted-level-2);\n",
       "}\n",
       "\n",
       "/* Label box, darken color on hover, fitted */\n",
       "#sk-container-id-2 div.sk-label.fitted:hover label.sk-toggleable__label.fitted {\n",
       "  color: var(--sklearn-color-text);\n",
       "  background-color: var(--sklearn-color-fitted-level-2);\n",
       "}\n",
       "\n",
       "/* Estimator label */\n",
       "\n",
       "#sk-container-id-2 div.sk-label label {\n",
       "  font-family: monospace;\n",
       "  font-weight: bold;\n",
       "  display: inline-block;\n",
       "  line-height: 1.2em;\n",
       "}\n",
       "\n",
       "#sk-container-id-2 div.sk-label-container {\n",
       "  text-align: center;\n",
       "}\n",
       "\n",
       "/* Estimator-specific */\n",
       "#sk-container-id-2 div.sk-estimator {\n",
       "  font-family: monospace;\n",
       "  border: 1px dotted var(--sklearn-color-border-box);\n",
       "  border-radius: 0.25em;\n",
       "  box-sizing: border-box;\n",
       "  margin-bottom: 0.5em;\n",
       "  /* unfitted */\n",
       "  background-color: var(--sklearn-color-unfitted-level-0);\n",
       "}\n",
       "\n",
       "#sk-container-id-2 div.sk-estimator.fitted {\n",
       "  /* fitted */\n",
       "  background-color: var(--sklearn-color-fitted-level-0);\n",
       "}\n",
       "\n",
       "/* on hover */\n",
       "#sk-container-id-2 div.sk-estimator:hover {\n",
       "  /* unfitted */\n",
       "  background-color: var(--sklearn-color-unfitted-level-2);\n",
       "}\n",
       "\n",
       "#sk-container-id-2 div.sk-estimator.fitted:hover {\n",
       "  /* fitted */\n",
       "  background-color: var(--sklearn-color-fitted-level-2);\n",
       "}\n",
       "\n",
       "/* Specification for estimator info (e.g. \"i\" and \"?\") */\n",
       "\n",
       "/* Common style for \"i\" and \"?\" */\n",
       "\n",
       ".sk-estimator-doc-link,\n",
       "a:link.sk-estimator-doc-link,\n",
       "a:visited.sk-estimator-doc-link {\n",
       "  float: right;\n",
       "  font-size: smaller;\n",
       "  line-height: 1em;\n",
       "  font-family: monospace;\n",
       "  background-color: var(--sklearn-color-background);\n",
       "  border-radius: 1em;\n",
       "  height: 1em;\n",
       "  width: 1em;\n",
       "  text-decoration: none !important;\n",
       "  margin-left: 1ex;\n",
       "  /* unfitted */\n",
       "  border: var(--sklearn-color-unfitted-level-1) 1pt solid;\n",
       "  color: var(--sklearn-color-unfitted-level-1);\n",
       "}\n",
       "\n",
       ".sk-estimator-doc-link.fitted,\n",
       "a:link.sk-estimator-doc-link.fitted,\n",
       "a:visited.sk-estimator-doc-link.fitted {\n",
       "  /* fitted */\n",
       "  border: var(--sklearn-color-fitted-level-1) 1pt solid;\n",
       "  color: var(--sklearn-color-fitted-level-1);\n",
       "}\n",
       "\n",
       "/* On hover */\n",
       "div.sk-estimator:hover .sk-estimator-doc-link:hover,\n",
       ".sk-estimator-doc-link:hover,\n",
       "div.sk-label-container:hover .sk-estimator-doc-link:hover,\n",
       ".sk-estimator-doc-link:hover {\n",
       "  /* unfitted */\n",
       "  background-color: var(--sklearn-color-unfitted-level-3);\n",
       "  color: var(--sklearn-color-background);\n",
       "  text-decoration: none;\n",
       "}\n",
       "\n",
       "div.sk-estimator.fitted:hover .sk-estimator-doc-link.fitted:hover,\n",
       ".sk-estimator-doc-link.fitted:hover,\n",
       "div.sk-label-container:hover .sk-estimator-doc-link.fitted:hover,\n",
       ".sk-estimator-doc-link.fitted:hover {\n",
       "  /* fitted */\n",
       "  background-color: var(--sklearn-color-fitted-level-3);\n",
       "  color: var(--sklearn-color-background);\n",
       "  text-decoration: none;\n",
       "}\n",
       "\n",
       "/* Span, style for the box shown on hovering the info icon */\n",
       ".sk-estimator-doc-link span {\n",
       "  display: none;\n",
       "  z-index: 9999;\n",
       "  position: relative;\n",
       "  font-weight: normal;\n",
       "  right: .2ex;\n",
       "  padding: .5ex;\n",
       "  margin: .5ex;\n",
       "  width: min-content;\n",
       "  min-width: 20ex;\n",
       "  max-width: 50ex;\n",
       "  color: var(--sklearn-color-text);\n",
       "  box-shadow: 2pt 2pt 4pt #999;\n",
       "  /* unfitted */\n",
       "  background: var(--sklearn-color-unfitted-level-0);\n",
       "  border: .5pt solid var(--sklearn-color-unfitted-level-3);\n",
       "}\n",
       "\n",
       ".sk-estimator-doc-link.fitted span {\n",
       "  /* fitted */\n",
       "  background: var(--sklearn-color-fitted-level-0);\n",
       "  border: var(--sklearn-color-fitted-level-3);\n",
       "}\n",
       "\n",
       ".sk-estimator-doc-link:hover span {\n",
       "  display: block;\n",
       "}\n",
       "\n",
       "/* \"?\"-specific style due to the `<a>` HTML tag */\n",
       "\n",
       "#sk-container-id-2 a.estimator_doc_link {\n",
       "  float: right;\n",
       "  font-size: 1rem;\n",
       "  line-height: 1em;\n",
       "  font-family: monospace;\n",
       "  background-color: var(--sklearn-color-background);\n",
       "  border-radius: 1rem;\n",
       "  height: 1rem;\n",
       "  width: 1rem;\n",
       "  text-decoration: none;\n",
       "  /* unfitted */\n",
       "  color: var(--sklearn-color-unfitted-level-1);\n",
       "  border: var(--sklearn-color-unfitted-level-1) 1pt solid;\n",
       "}\n",
       "\n",
       "#sk-container-id-2 a.estimator_doc_link.fitted {\n",
       "  /* fitted */\n",
       "  border: var(--sklearn-color-fitted-level-1) 1pt solid;\n",
       "  color: var(--sklearn-color-fitted-level-1);\n",
       "}\n",
       "\n",
       "/* On hover */\n",
       "#sk-container-id-2 a.estimator_doc_link:hover {\n",
       "  /* unfitted */\n",
       "  background-color: var(--sklearn-color-unfitted-level-3);\n",
       "  color: var(--sklearn-color-background);\n",
       "  text-decoration: none;\n",
       "}\n",
       "\n",
       "#sk-container-id-2 a.estimator_doc_link.fitted:hover {\n",
       "  /* fitted */\n",
       "  background-color: var(--sklearn-color-fitted-level-3);\n",
       "}\n",
       "</style><div id=\"sk-container-id-2\" class=\"sk-top-container\"><div class=\"sk-text-repr-fallback\"><pre>LGBMClassifier(random_state=42)</pre><b>In a Jupyter environment, please rerun this cell to show the HTML representation or trust the notebook. <br />On GitHub, the HTML representation is unable to render, please try loading this page with nbviewer.org.</b></div><div class=\"sk-container\" hidden><div class=\"sk-item\"><div class=\"sk-estimator fitted sk-toggleable\"><input class=\"sk-toggleable__control sk-hidden--visually\" id=\"sk-estimator-id-2\" type=\"checkbox\" checked><label for=\"sk-estimator-id-2\" class=\"sk-toggleable__label fitted sk-toggleable__label-arrow fitted\">&nbsp;LGBMClassifier<span class=\"sk-estimator-doc-link fitted\">i<span>Fitted</span></span></label><div class=\"sk-toggleable__content fitted\"><pre>LGBMClassifier(random_state=42)</pre></div> </div></div></div></div>"
      ],
      "text/plain": [
       "LGBMClassifier(random_state=42)"
      ]
     },
     "execution_count": 27,
     "metadata": {},
     "output_type": "execute_result"
    }
   ],
   "source": [
    "model.fit(X[selected_features], y)"
   ]
  },
  {
   "cell_type": "code",
   "execution_count": 28,
   "metadata": {},
   "outputs": [
    {
     "name": "stdout",
     "output_type": "stream",
     "text": [
      "Model Accuracy: 0.9817170111287759\n"
     ]
    }
   ],
   "source": [
    "predictions = model.predict(X[selected_features])\n",
    "accuracy = accuracy_score(y, predictions)\n",
    "print(f\"Model Accuracy: {accuracy}\")"
   ]
  },
  {
   "cell_type": "code",
   "execution_count": 29,
   "metadata": {},
   "outputs": [],
   "source": [
    "import math\n",
    "import warnings\n",
    "warnings.filterwarnings('ignore')\n",
    "from termcolor import colored as cl"
   ]
  },
  {
   "cell_type": "code",
   "execution_count": 32,
   "metadata": {},
   "outputs": [],
   "source": [
    "def implement_strategy(df, investment):\n",
    "\n",
    "    in_position = False\n",
    "    equity = investment\n",
    "\n",
    "    for i, row in df.iterrows():\n",
    "        prob_negative, prob_positive = model.predict_proba([row[selected_features].values])[0]\n",
    "        if (\n",
    "            prob_positive > 0.6 and in_position == False\n",
    "        ):\n",
    "            no_of_shares = math.floor(equity / df.Close[i])\n",
    "            equity -= no_of_shares * df.Close[i]\n",
    "            in_position = True\n",
    "            print(\n",
    "                cl(\"BUY: \", color=\"green\", attrs=[\"bold\"]),\n",
    "                f'{no_of_shares} Shares are bought at ${df.Close[i]} on {str(df[\"Date\"][i])[:10]}',\n",
    "            )\n",
    "        elif prob_negative > (1 - 0.4) and in_position == True:\n",
    "            equity += no_of_shares * df.Close[i]\n",
    "            in_position = False\n",
    "            print(\n",
    "                cl(\"SELL: \", color=\"red\", attrs=[\"bold\"]),\n",
    "                f'{no_of_shares} Shares are sold at ${df.Close[i]} on {str(df[\"Date\"][i])[:10]}',\n",
    "            )\n",
    "    if in_position == True:\n",
    "        equity += no_of_shares * df.Close[i]\n",
    "        print(\n",
    "            cl(\n",
    "                f'\\nClosing position at {df.Close[i]} on {str(df[\"Date\"][i])[:10]}',\n",
    "                attrs=[\"bold\"],\n",
    "            )\n",
    "        )\n",
    "        in_position = False\n",
    "\n",
    "    earning = round(equity - investment, 2)\n",
    "    roi = round(earning / investment * 100, 2)\n",
    "    # return roi\n",
    "    print(cl(f\"EARNING: ${earning} ; ROI: {roi}%\", attrs=[\"bold\"]))"
   ]
  },
  {
   "cell_type": "code",
   "execution_count": 33,
   "metadata": {},
   "outputs": [
    {
     "name": "stdout",
     "output_type": "stream",
     "text": [
      "\u001b[1m\u001b[32mBUY: \u001b[0m 394 Shares are bought at $25.332000732421875 on 2015-01-06\n",
      "\u001b[1m\u001b[31mSELL: \u001b[0m 394 Shares are sold at $26.864999771118164 on 2015-01-22\n",
      "\u001b[1m\u001b[32mBUY: \u001b[0m 406 Shares are bought at $26.059499740600586 on 2015-01-27\n",
      "\u001b[1m\u001b[31mSELL: \u001b[0m 406 Shares are sold at $28.131500244140625 on 2015-02-27\n",
      "\u001b[1m\u001b[32mBUY: \u001b[0m 408 Shares are bought at $27.99250030517578 on 2015-03-10\n",
      "\u001b[1m\u001b[31mSELL: \u001b[0m 408 Shares are sold at $28.082000732421875 on 2015-03-16\n",
      "\u001b[1m\u001b[32mBUY: \u001b[0m 418 Shares are bought at $27.441999435424805 on 2015-04-08\n",
      "\u001b[1m\u001b[31mSELL: \u001b[0m 418 Shares are sold at $27.458999633789062 on 2015-04-22\n",
      "\u001b[1m\u001b[32mBUY: \u001b[0m 418 Shares are bought at $27.438499450683594 on 2015-04-30\n",
      "\u001b[1m\u001b[31mSELL: \u001b[0m 418 Shares are sold at $27.558000564575195 on 2015-05-01\n",
      "\u001b[1m\u001b[32mBUY: \u001b[0m 424 Shares are bought at $27.152000427246094 on 2015-05-05\n",
      "\u001b[1m\u001b[31mSELL: \u001b[0m 424 Shares are sold at $27.625499725341797 on 2015-05-20\n",
      "\u001b[1m\u001b[32mBUY: \u001b[0m 430 Shares are bought at $27.266000747680664 on 2015-05-29\n",
      "\u001b[1m\u001b[31mSELL: \u001b[0m 430 Shares are sold at $27.460500717163086 on 2015-06-01\n",
      "\u001b[1m\u001b[32mBUY: \u001b[0m 428 Shares are bought at $27.58449935913086 on 2015-06-04\n",
      "\u001b[1m\u001b[31mSELL: \u001b[0m 428 Shares are sold at $27.149999618530273 on 2015-06-15\n",
      "\u001b[1m\u001b[32mBUY: \u001b[0m 420 Shares are bought at $27.652999877929688 on 2015-06-26\n",
      "\u001b[1m\u001b[31mSELL: \u001b[0m 420 Shares are sold at $34.98099899291992 on 2015-07-17\n",
      "\u001b[1m\u001b[32mBUY: \u001b[0m 449 Shares are bought at $32.73849868774414 on 2015-07-24\n",
      "\u001b[1m\u001b[31mSELL: \u001b[0m 449 Shares are sold at $33.21950149536133 on 2015-08-07\n",
      "\u001b[1m\u001b[32mBUY: \u001b[0m 483 Shares are bought at $30.905500411987305 on 2015-08-24\n",
      "\u001b[1m\u001b[31mSELL: \u001b[0m 483 Shares are sold at $32.98699951171875 on 2015-08-26\n",
      "\u001b[1m\u001b[32mBUY: \u001b[0m 491 Shares are bought at $32.39099884033203 on 2015-08-31\n",
      "\u001b[1m\u001b[31mSELL: \u001b[0m 491 Shares are sold at $32.76499938964844 on 2015-09-11\n",
      "\u001b[1m\u001b[32mBUY: \u001b[0m 483 Shares are bought at $33.3489990234375 on 2015-09-21\n",
      "\u001b[1m\u001b[31mSELL: \u001b[0m 483 Shares are sold at $37.441001892089844 on 2015-11-03\n",
      "\u001b[1m\u001b[32mBUY: \u001b[0m 479 Shares are bought at $37.765499114990234 on 2015-11-04\n",
      "\u001b[1m\u001b[31mSELL: \u001b[0m 479 Shares are sold at $38.849998474121094 on 2015-11-20\n",
      "\u001b[1m\u001b[32mBUY: \u001b[0m 484 Shares are bought at $38.40999984741211 on 2015-12-03\n",
      "\u001b[1m\u001b[31mSELL: \u001b[0m 484 Shares are sold at $38.96049880981445 on 2015-12-04\n",
      "\u001b[1m\u001b[32mBUY: \u001b[0m 495 Shares are bought at $38.127498626708984 on 2015-12-09\n",
      "\u001b[1m\u001b[31mSELL: \u001b[0m 495 Shares are sold at $38.49150085449219 on 2015-12-17\n",
      "\u001b[1m\u001b[32mBUY: \u001b[0m 503 Shares are bought at $37.842498779296875 on 2015-12-18\n",
      "\u001b[1m\u001b[31mSELL: \u001b[0m 503 Shares are sold at $38.040000915527344 on 2015-12-21\n",
      "\u001b[1m\u001b[32mBUY: \u001b[0m 517 Shares are bought at $37.04999923706055 on 2016-01-07\n",
      "\u001b[1m\u001b[31mSELL: \u001b[0m 517 Shares are sold at $37.266998291015625 on 2016-01-12\n",
      "\u001b[1m\u001b[32mBUY: \u001b[0m 535 Shares are bought at $35.97850036621094 on 2016-01-13\n",
      "\u001b[1m\u001b[31mSELL: \u001b[0m 535 Shares are sold at $37.27299880981445 on 2016-01-22\n",
      "\u001b[1m\u001b[32mBUY: \u001b[0m 567 Shares are bought at $35.1879997253418 on 2016-02-05\n",
      "\u001b[1m\u001b[31mSELL: \u001b[0m 567 Shares are sold at $37.9734992980957 on 2016-04-08\n",
      "\u001b[1m\u001b[32mBUY: \u001b[0m 594 Shares are bought at $36.26850128173828 on 2016-04-26\n",
      "\u001b[1m\u001b[31mSELL: \u001b[0m 594 Shares are sold at $36.45650100708008 on 2016-05-09\n",
      "\u001b[1m\u001b[32mBUY: \u001b[0m 592 Shares are bought at $36.52750015258789 on 2016-05-11\n",
      "\u001b[1m\u001b[31mSELL: \u001b[0m 592 Shares are sold at $36.846500396728516 on 2016-05-26\n",
      "\u001b[1m\u001b[32mBUY: \u001b[0m 620 Shares are bought at $35.212501525878906 on 2016-06-17\n",
      "\u001b[1m\u001b[31mSELL: \u001b[0m 620 Shares are sold at $35.30649948120117 on 2016-06-20\n",
      "\u001b[1m\u001b[32mBUY: \u001b[0m 618 Shares are bought at $35.444000244140625 on 2016-06-21\n",
      "\u001b[1m\u001b[31mSELL: \u001b[0m 618 Shares are sold at $35.52349853515625 on 2016-06-22\n",
      "\u001b[1m\u001b[32mBUY: \u001b[0m 614 Shares are bought at $35.743499755859375 on 2016-06-23\n",
      "\u001b[1m\u001b[31mSELL: \u001b[0m 614 Shares are sold at $40.346500396728516 on 2016-08-05\n",
      "\u001b[1m\u001b[32mBUY: \u001b[0m 624 Shares are bought at $39.68000030517578 on 2016-08-24\n",
      "\u001b[1m\u001b[31mSELL: \u001b[0m 624 Shares are sold at $39.79100036621094 on 2016-08-29\n",
      "\u001b[1m\u001b[32mBUY: \u001b[0m 629 Shares are bought at $39.49250030517578 on 2016-08-31\n",
      "\u001b[1m\u001b[31mSELL: \u001b[0m 629 Shares are sold at $40.4010009765625 on 2016-09-06\n",
      "\u001b[1m\u001b[32mBUY: \u001b[0m 644 Shares are bought at $39.42399978637695 on 2016-09-09\n",
      "\u001b[1m\u001b[31mSELL: \u001b[0m 644 Shares are sold at $40.79750061035156 on 2016-09-22\n",
      "\u001b[1m\u001b[32mBUY: \u001b[0m 655 Shares are bought at $40.13249969482422 on 2016-09-26\n",
      "\u001b[1m\u001b[31mSELL: \u001b[0m 655 Shares are sold at $40.5364990234375 on 2016-09-27\n",
      "\u001b[1m\u001b[32mBUY: \u001b[0m 656 Shares are bought at $40.50299835205078 on 2016-09-28\n",
      "\u001b[1m\u001b[31mSELL: \u001b[0m 656 Shares are sold at $41.074501037597656 on 2016-10-18\n",
      "\u001b[1m\u001b[32mBUY: \u001b[0m 698 Shares are bought at $38.587501525878906 on 2016-11-11\n",
      "\u001b[1m\u001b[31mSELL: \u001b[0m 698 Shares are sold at $38.999000549316406 on 2016-11-16\n",
      "\u001b[1m\u001b[32mBUY: \u001b[0m 701 Shares are bought at $38.798500061035156 on 2016-11-18\n",
      "\u001b[1m\u001b[31mSELL: \u001b[0m 701 Shares are sold at $39.2400016784668 on 2016-11-21\n",
      "\u001b[1m\u001b[32mBUY: \u001b[0m 701 Shares are bought at $39.25 on 2016-11-22\n",
      "\u001b[1m\u001b[31mSELL: \u001b[0m 701 Shares are sold at $40.47249984741211 on 2016-12-09\n",
      "\u001b[1m\u001b[32mBUY: \u001b[0m 703 Shares are bought at $40.39500045776367 on 2016-12-12\n",
      "\u001b[1m\u001b[31mSELL: \u001b[0m 703 Shares are sold at $40.766998291015625 on 2016-12-13\n",
      "\u001b[1m\u001b[32mBUY: \u001b[0m 705 Shares are bought at $40.61000061035156 on 2016-12-21\n",
      "\u001b[1m\u001b[31mSELL: \u001b[0m 705 Shares are sold at $41.547000885009766 on 2017-01-13\n",
      "\u001b[1m\u001b[32mBUY: \u001b[0m 711 Shares are bought at $41.19150161743164 on 2017-01-30\n",
      "\u001b[1m\u001b[31mSELL: \u001b[0m 711 Shares are sold at $42.557498931884766 on 2017-03-07\n",
      "\u001b[1m\u001b[32mBUY: \u001b[0m 721 Shares are bought at $41.98249816894531 on 2017-03-23\n",
      "\u001b[1m\u001b[31mSELL: \u001b[0m 721 Shares are sold at $42.03150177001953 on 2017-03-28\n",
      "\u001b[1m\u001b[32mBUY: \u001b[0m 715 Shares are bought at $42.38999938964844 on 2017-03-31\n",
      "\u001b[1m\u001b[31mSELL: \u001b[0m 715 Shares are sold at $42.837501525878906 on 2017-04-03\n",
      "\u001b[1m\u001b[32mBUY: \u001b[0m 718 Shares are bought at $42.628501892089844 on 2017-04-04\n",
      "\u001b[1m\u001b[31mSELL: \u001b[0m 718 Shares are sold at $47.736000061035156 on 2017-05-04\n",
      "\u001b[1m\u001b[32mBUY: \u001b[0m 722 Shares are bought at $47.513999938964844 on 2017-05-05\n",
      "\u001b[1m\u001b[31mSELL: \u001b[0m 722 Shares are sold at $49.59299850463867 on 2017-05-25\n",
      "\u001b[1m\u001b[32mBUY: \u001b[0m 744 Shares are bought at $48.09049987792969 on 2017-06-12\n",
      "\u001b[1m\u001b[31mSELL: \u001b[0m 744 Shares are sold at $48.525001525878906 on 2017-06-13\n",
      "\u001b[1m\u001b[32mBUY: \u001b[0m 762 Shares are bought at $47.40449905395508 on 2017-06-27\n",
      "\u001b[1m\u001b[31mSELL: \u001b[0m 762 Shares are sold at $48.382999420166016 on 2017-07-12\n",
      "\u001b[1m\u001b[32mBUY: \u001b[0m 784 Shares are bought at $47.00400161743164 on 2017-08-09\n",
      "\u001b[1m\u001b[31mSELL: \u001b[0m 784 Shares are sold at $46.94649887084961 on 2017-08-14\n",
      "\u001b[1m\u001b[32mBUY: \u001b[0m 794 Shares are bought at $46.382999420166016 on 2017-08-17\n",
      "\u001b[1m\u001b[31mSELL: \u001b[0m 794 Shares are sold at $47.18149948120117 on 2017-08-30\n",
      "\u001b[1m\u001b[32mBUY: \u001b[0m 795 Shares are bought at $47.10100173950195 on 2017-09-06\n",
      "\u001b[1m\u001b[31mSELL: \u001b[0m 795 Shares are sold at $47.49449920654297 on 2017-09-07\n",
      "\u001b[1m\u001b[32mBUY: \u001b[0m 802 Shares are bought at $47.070499420166016 on 2017-09-08\n",
      "\u001b[1m\u001b[31mSELL: \u001b[0m 802 Shares are sold at $47.16450119018555 on 2017-09-11\n",
      "\u001b[1m\u001b[32mBUY: \u001b[0m 805 Shares are bought at $47.006500244140625 on 2017-09-14\n",
      "\u001b[1m\u001b[31mSELL: \u001b[0m 805 Shares are sold at $49.615501403808594 on 2017-10-09\n",
      "\u001b[1m\u001b[32mBUY: \u001b[0m 809 Shares are bought at $49.38999938964844 on 2017-10-10\n",
      "\u001b[1m\u001b[31mSELL: \u001b[0m 809 Shares are sold at $50.282501220703125 on 2017-10-11\n",
      "\u001b[1m\u001b[32mBUY: \u001b[0m 807 Shares are bought at $50.39350128173828 on 2017-10-13\n",
      "\u001b[1m\u001b[31mSELL: \u001b[0m 807 Shares are sold at $52.4995002746582 on 2017-11-03\n",
      "\u001b[1m\u001b[32mBUY: \u001b[0m 817 Shares are bought at $51.86899948120117 on 2017-11-29\n",
      "\u001b[1m\u001b[31mSELL: \u001b[0m 817 Shares are sold at $57.17499923706055 on 2018-01-19\n",
      "\u001b[1m\u001b[32mBUY: \u001b[0m 879 Shares are bought at $53.11949920654297 on 2018-02-05\n",
      "\u001b[1m\u001b[31mSELL: \u001b[0m 879 Shares are sold at $53.6349983215332 on 2018-02-14\n",
      "\u001b[1m\u001b[32mBUY: \u001b[0m 847 Shares are bought at $55.6875 on 2018-02-21\n",
      "\u001b[1m\u001b[31mSELL: \u001b[0m 847 Shares are sold at $55.04499816894531 on 2018-03-06\n",
      "\u001b[1m\u001b[32mBUY: \u001b[0m 926 Shares are bought at $50.34700012207031 on 2018-03-27\n",
      "\u001b[1m\u001b[31mSELL: \u001b[0m 926 Shares are sold at $51.856998443603516 on 2018-03-29\n",
      "\u001b[1m\u001b[32mBUY: \u001b[0m 948 Shares are bought at $50.631500244140625 on 2018-04-02\n",
      "\u001b[1m\u001b[31mSELL: \u001b[0m 948 Shares are sold at $51.82500076293945 on 2018-04-10\n",
      "\u001b[1m\u001b[32mBUY: \u001b[0m 961 Shares are bought at $51.13199996948242 on 2018-04-24\n",
      "\u001b[1m\u001b[31mSELL: \u001b[0m 961 Shares are sold at $54.4474983215332 on 2018-05-09\n",
      "\u001b[1m\u001b[32mBUY: \u001b[0m 965 Shares are bought at $54.204498291015625 on 2018-05-16\n",
      "\u001b[1m\u001b[31mSELL: \u001b[0m 965 Shares are sold at $57.04499816894531 on 2018-06-11\n",
      "\u001b[1m\u001b[32mBUY: \u001b[0m 967 Shares are bought at $56.9640007019043 on 2018-06-25\n",
      "\u001b[1m\u001b[31mSELL: \u001b[0m 967 Shares are sold at $62.907501220703125 on 2018-07-24\n",
      "\u001b[1m\u001b[32mBUY: \u001b[0m 989 Shares are bought at $61.50199890136719 on 2018-07-30\n",
      "\u001b[1m\u001b[31mSELL: \u001b[0m 989 Shares are sold at $61.64950180053711 on 2018-08-01\n",
      "\u001b[1m\u001b[32mBUY: \u001b[0m 996 Shares are bought at $61.202999114990234 on 2018-08-16\n",
      "\u001b[1m\u001b[31mSELL: \u001b[0m 996 Shares are sold at $61.09749984741211 on 2018-08-20\n",
      "\u001b[1m\u001b[32mBUY: \u001b[0m 1028 Shares are bought at $59.199501037597656 on 2018-09-06\n",
      "\u001b[1m\u001b[31mSELL: \u001b[0m 1028 Shares are sold at $59.57849884033203 on 2018-09-20\n",
      "\u001b[1m\u001b[32mBUY: \u001b[0m 1184 Shares are bought at $51.73649978637695 on 2018-10-29\n",
      "\u001b[1m\u001b[31mSELL: \u001b[0m 1184 Shares are sold at $52.47549819946289 on 2018-10-30\n",
      "\u001b[1m\u001b[32mBUY: \u001b[0m 1184 Shares are bought at $52.46799850463867 on 2018-11-12\n",
      "\u001b[1m\u001b[31mSELL: \u001b[0m 1184 Shares are sold at $54.589500427246094 on 2018-11-28\n",
      "\u001b[1m\u001b[32mBUY: \u001b[0m 1260 Shares are bought at $51.282501220703125 on 2018-12-17\n",
      "\u001b[1m\u001b[31mSELL: \u001b[0m 1260 Shares are sold at $52.170501708984375 on 2018-12-18\n",
      "\u001b[1m\u001b[32mBUY: \u001b[0m 1270 Shares are bought at $51.77299880981445 on 2018-12-19\n",
      "\u001b[1m\u001b[31mSELL: \u001b[0m 1270 Shares are sold at $57.07099914550781 on 2019-02-04\n",
      "\u001b[1m\u001b[32mBUY: \u001b[0m 1311 Shares are bought at $55.295501708984375 on 2019-02-07\n",
      "\u001b[1m\u001b[31mSELL: \u001b[0m 1311 Shares are sold at $56.37900161743164 on 2019-02-12\n",
      "\u001b[1m\u001b[32mBUY: \u001b[0m 1309 Shares are bought at $56.459999084472656 on 2019-02-14\n",
      "\u001b[1m\u001b[31mSELL: \u001b[0m 1309 Shares are sold at $59.86249923706055 on 2019-03-12\n",
      "\u001b[1m\u001b[32mBUY: \u001b[0m 1318 Shares are bought at $59.4275016784668 on 2019-03-18\n",
      "\u001b[1m\u001b[31mSELL: \u001b[0m 1318 Shares are sold at $61.32149887084961 on 2019-03-20\n",
      "\u001b[1m\u001b[32mBUY: \u001b[0m 1339 Shares are bought at $60.38249969482422 on 2019-03-22\n",
      "\u001b[1m\u001b[31mSELL: \u001b[0m 1339 Shares are sold at $61.326499938964844 on 2019-04-15\n",
      "\u001b[1m\u001b[32mBUY: \u001b[0m 1581 Shares are bought at $51.9370002746582 on 2019-06-03\n",
      "\u001b[1m\u001b[31mSELL: \u001b[0m 1581 Shares are sold at $54.550498962402344 on 2019-06-13\n",
      "\u001b[1m\u001b[32mBUY: \u001b[0m 1577 Shares are bought at $54.69449996948242 on 2019-06-17\n",
      "\u001b[1m\u001b[31mSELL: \u001b[0m 1577 Shares are sold at $57.045501708984375 on 2019-07-10\n",
      "\u001b[1m\u001b[32mBUY: \u001b[0m 1571 Shares are bought at $57.266998291015625 on 2019-07-12\n",
      "\u001b[1m\u001b[31mSELL: \u001b[0m 1571 Shares are sold at $62.26100158691406 on 2019-07-26\n",
      "\u001b[1m\u001b[32mBUY: \u001b[0m 1694 Shares are bought at $57.73749923706055 on 2019-08-05\n",
      "\u001b[1m\u001b[31mSELL: \u001b[0m 1694 Shares are sold at $60.30950164794922 on 2019-08-08\n",
      "\u001b[1m\u001b[32mBUY: \u001b[0m 1755 Shares are bought at $58.212501525878906 on 2019-08-14\n",
      "\u001b[1m\u001b[31mSELL: \u001b[0m 1755 Shares are sold at $60.02199935913086 on 2019-08-19\n",
      "\u001b[1m\u001b[32mBUY: \u001b[0m 1768 Shares are bought at $59.57899856567383 on 2019-08-21\n",
      "\u001b[1m\u001b[31mSELL: \u001b[0m 1768 Shares are sold at $62.00149917602539 on 2019-09-13\n",
      "\u001b[1m\u001b[32mBUY: \u001b[0m 1818 Shares are bought at $60.29999923706055 on 2019-10-01\n",
      "\u001b[1m\u001b[31mSELL: \u001b[0m 1818 Shares are sold at $65.34700012207031 on 2019-11-07\n",
      "\u001b[1m\u001b[32mBUY: \u001b[0m 1831 Shares are bought at $64.8604965209961 on 2019-11-12\n",
      "\u001b[1m\u001b[31mSELL: \u001b[0m 1831 Shares are sold at $65.4574966430664 on 2019-11-14\n",
      "\u001b[1m\u001b[32mBUY: \u001b[0m 1826 Shares are bought at $65.62950134277344 on 2019-11-19\n",
      "\u001b[1m\u001b[31mSELL: \u001b[0m 1826 Shares are sold at $67.34349822998047 on 2019-12-13\n",
      "\u001b[1mEARNING: $113029.78 ; ROI: 1130.3%\u001b[0m\n"
     ]
    }
   ],
   "source": [
    "implement_strategy(X.reset_index(), 10000)"
   ]
  },
  {
   "cell_type": "code",
   "execution_count": null,
   "metadata": {},
   "outputs": [],
   "source": [
    "initial_capital = 10000\n",
    "capital = initial_capital\n",
    "positions = 0 # Number of shares held\n",
    "in_position = False\n",
    "\n",
    "# Set a threshold for the buy/sell signals based on the predicted probability\n",
    "buy_threshold = 0.7  # Confidence level to trigger a buy\n",
    "sell_threshold = 0.4  # Confidence level to trigger a sell\n",
    "\n",
    "for index, row in X.iterrows():\n",
    "    # Get the predicted probabilities for the negative (0) and positive (1) classes\n",
    "    prob_negative, prob_positive = model.predict_proba([row[selected_features].values])[0]\n",
    "\n",
    "    # Check if the probability of the positive class exceeds the buy threshold\n",
    "    if prob_positive > buy_threshold and in_position == False:\n",
    "        # Buy signal: Allocate all capital to buy shares\n",
    "        positions = capital / data.loc[index, 'Close']\n",
    "        capital = 0\n",
    "    # Check if the probability of the negative class exceeds the (1 - sell threshold)\n",
    "    elif prob_negative > (1 - sell_threshold) and positions > 0:\n",
    "        # Sell signal: Sell all positions\n",
    "        capital = positions * data.loc[index, 'Close']\n",
    "        positions = 0\n",
    "\n",
    "# Calculate final returns\n",
    "final_returns = (capital + (positions * data.iloc[-1]['Close']) - initial_capital) / initial_capital\n",
    "print(f\"Final returns: {final_returns * 100}%\")\n"
   ]
  },
  {
   "cell_type": "code",
   "execution_count": null,
   "metadata": {},
   "outputs": [],
   "source": [
    "# Example: Simple backtesting logic\n",
    "initial_capital = 10000\n",
    "capital = initial_capital\n",
    "positions = 0 # Number of shares held\n",
    "\n",
    "for index, row in X.iterrows():\n",
    "    signal = model.predict([row[selected_features].values])[0]\n",
    "    if signal == 1 and capital > 0: # Buy signal\n",
    "        positions = capital / data.loc[index, 'Close']\n",
    "        capital = 0\n",
    "    elif signal == 0 and positions > 0: # Sell signal\n",
    "        capital = positions * data.loc[index, 'Close']\n",
    "        positions = 0\n",
    "\n",
    "# Calculate final returns\n",
    "final_returns = (capital + (positions * data.iloc[-1]['Close']) - initial_capital) / initial_capital\n",
    "print(f\"Final returns: {final_returns * 100}%\")\n"
   ]
  }
 ],
 "metadata": {
  "kernelspec": {
   "display_name": "compare-multiple-backtests-f1m3Q6xX-py3.11",
   "language": "python",
   "name": "python3"
  },
  "language_info": {
   "codemirror_mode": {
    "name": "ipython",
    "version": 3
   },
   "file_extension": ".py",
   "mimetype": "text/x-python",
   "name": "python",
   "nbconvert_exporter": "python",
   "pygments_lexer": "ipython3",
   "version": "3.11.5"
  }
 },
 "nbformat": 4,
 "nbformat_minor": 2
}
