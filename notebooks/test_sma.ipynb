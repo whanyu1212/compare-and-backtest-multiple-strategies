{
 "cells": [
  {
   "cell_type": "code",
   "execution_count": null,
   "metadata": {},
   "outputs": [],
   "source": [
    "import pandas as pd\n",
    "import requests\n",
    "import math\n",
    "import yfinance as yf\n",
    "from termcolor import colored as cl\n",
    "import matplotlib.pyplot as plt\n",
    "\n",
    "plt.rcParams[\"figure.figsize\"] = (20, 10)\n",
    "plt.style.use(\"fivethirtyeight\")"
   ]
  },
  {
   "cell_type": "code",
   "execution_count": null,
   "metadata": {},
   "outputs": [],
   "source": [
    "aapl = yf.download(\"AAPL\", start=\"2015-01-01\", end=\"2020-01-01\").reset_index()"
   ]
  },
  {
   "cell_type": "code",
   "execution_count": null,
   "metadata": {},
   "outputs": [],
   "source": [
    "# Calculate the ROI\n",
    "buy_price = aapl[\"Close\"].iloc[0]\n",
    "sell_price = aapl[\"Close\"].iloc[-1]\n",
    "\n",
    "roi = (sell_price - buy_price) / buy_price * 100\n",
    "\n",
    "print(f\"The ROI for a buy and hold strategy is {roi}%\")"
   ]
  },
  {
   "cell_type": "code",
   "execution_count": null,
   "metadata": {},
   "outputs": [],
   "source": [
    "counter = 1\n",
    "for period in [5, 8, 13]:\n",
    "    aapl[\"SMA\" + str(counter)] = aapl[\"Close\"].rolling(window=period).mean()\n",
    "    counter += 1"
   ]
  },
  {
   "cell_type": "code",
   "execution_count": null,
   "metadata": {},
   "outputs": [],
   "source": [
    "aapl"
   ]
  },
  {
   "cell_type": "code",
   "execution_count": null,
   "metadata": {},
   "outputs": [],
   "source": [
    "plt.plot(aapl[\"Close\"][:100], label=\"AAPL\", linewidth=6)\n",
    "plt.plot(aapl[\"SMA5\"][:100], label=\"SMA 5\", linewidth=3, linestyle=\"--\")\n",
    "plt.plot(aapl[\"SMA8\"][:100], label=\"SMA 8\", linewidth=4, alpha=0.7)\n",
    "plt.plot(aapl[\"SMA13\"][:100], label=\"SMA 13\", linewidth=4, alpha=0.7)\n",
    "plt.title(\"AAPL SMA 5,8,13\")\n",
    "plt.legend()"
   ]
  },
  {
   "cell_type": "code",
   "execution_count": null,
   "metadata": {},
   "outputs": [],
   "source": [
    "def implement_strategy(aapl, investment):\n",
    "\n",
    "    in_position = False\n",
    "    equity = investment\n",
    "\n",
    "    for i in range(1, len(aapl)):\n",
    "        if (\n",
    "            aapl[\"SMA8\"][i - 1] < aapl[\"SMA13\"][i - 1]\n",
    "            and aapl[\"SMA8\"][i] > aapl[\"SMA13\"][i]\n",
    "            and aapl[\"SMA5\"][i] > aapl[\"SMA8\"][i]\n",
    "            and aapl[\"Close\"][i] > aapl[\"SMA5\"][i]\n",
    "            and in_position == False\n",
    "        ):\n",
    "            no_of_shares = math.floor(equity / aapl.Close[i])\n",
    "            equity -= no_of_shares * aapl.Close[i]\n",
    "            in_position = True\n",
    "            print(\n",
    "                cl(\"BUY: \", color=\"green\", attrs=[\"bold\"]),\n",
    "                f'{no_of_shares} Shares are bought at ${aapl.Close[i]} on {str(aapl[\"Date\"][i])[:10]}',\n",
    "            )\n",
    "        elif (\n",
    "            aapl[\"SMA8\"][i - 1] > aapl[\"SMA13\"][i - 1]\n",
    "            and aapl[\"SMA8\"][i] < aapl[\"SMA13\"][i]\n",
    "            and aapl[\"SMA5\"][i] < aapl[\"SMA8\"][i]\n",
    "            and aapl[\"Close\"][i] < aapl[\"SMA5\"][i]\n",
    "            and in_position == True\n",
    "        ):\n",
    "            equity += no_of_shares * aapl.Close[i]\n",
    "            in_position = False\n",
    "            print(\n",
    "                cl(\"SELL: \", color=\"red\", attrs=[\"bold\"]),\n",
    "                f'{no_of_shares} Shares are bought at ${aapl.Close[i]} on {str(aapl[\"Date\"][i])[:10]}',\n",
    "            )\n",
    "    if in_position == True:\n",
    "        equity += no_of_shares * aapl.Close[i]\n",
    "        print(\n",
    "            cl(\n",
    "                f'\\nClosing position at {aapl.Close[i]} on {str(aapl[\"Date\"][i])[:10]}',\n",
    "                attrs=[\"bold\"],\n",
    "            )\n",
    "        )\n",
    "        in_position = False\n",
    "\n",
    "    earning = round(equity - investment, 2)\n",
    "    roi = round(earning / investment * 100, 2)\n",
    "    print(cl(f\"EARNING: ${earning} ; ROI: {roi}%\", attrs=[\"bold\"]))"
   ]
  },
  {
   "cell_type": "code",
   "execution_count": null,
   "metadata": {},
   "outputs": [],
   "source": [
    "import plotly.graph_objects as go\n",
    "\n",
    "# Create a trace for each line\n",
    "trace1 = go.Scatter(\n",
    "    x=aapl.index[:100], y=aapl[\"Close\"][:100], mode=\"lines\", name=\"AAPL\"\n",
    ")\n",
    "trace2 = go.Scatter(\n",
    "    x=aapl.index[:100],\n",
    "    y=aapl[\"SMA5\"][:100],\n",
    "    mode=\"lines\",\n",
    "    name=\"SMA 5\",\n",
    "    line=dict(dash=\"dash\"),\n",
    ")\n",
    "trace3 = go.Scatter(\n",
    "    x=aapl.index[:100],\n",
    "    y=aapl[\"SMA8\"][:100],\n",
    "    mode=\"lines\",\n",
    "    name=\"SMA 8\",\n",
    "    line=dict(width=4),\n",
    ")\n",
    "trace4 = go.Scatter(\n",
    "    x=aapl.index[:100],\n",
    "    y=aapl[\"SMA13\"][:100],\n",
    "    mode=\"lines\",\n",
    "    name=\"SMA 13\",\n",
    "    line=dict(width=4),\n",
    ")\n",
    "\n",
    "# Create a layout\n",
    "layout = go.Layout(title=\"AAPL SMA 5,8,13\")\n",
    "\n",
    "# Create a figure and add the traces\n",
    "fig = go.Figure(data=[trace1, trace2, trace3, trace4], layout=layout)\n",
    "layout = go.Layout(\n",
    "    title=\"AAPL SMA 5,8,13\",\n",
    "    plot_bgcolor=\"rgb(230, 230,230)\",  # this changes the plot area background color\n",
    "    paper_bgcolor=\"rgb(255, 255, 255)\",  # this changes the rest of the plot background color\n",
    ")\n",
    "fig.update_layout(layout)\n",
    "# Show the figure\n",
    "fig.show()"
   ]
  },
  {
   "cell_type": "code",
   "execution_count": null,
   "metadata": {},
   "outputs": [],
   "source": [
    "implement_strategy(aapl, 10000)"
   ]
  }
 ],
 "metadata": {
  "kernelspec": {
   "display_name": "compare-multiple-backtests-2J6ybkfi-py3.10",
   "language": "python",
   "name": "python3"
  },
  "language_info": {
   "codemirror_mode": {
    "name": "ipython",
    "version": 3
   },
   "file_extension": ".py",
   "mimetype": "text/x-python",
   "name": "python",
   "nbconvert_exporter": "python",
   "pygments_lexer": "ipython3",
   "version": "3.10.12"
  }
 },
 "nbformat": 4,
 "nbformat_minor": 2
}
